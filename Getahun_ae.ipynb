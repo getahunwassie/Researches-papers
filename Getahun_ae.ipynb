{
  "cells": [
    {
      "cell_type": "markdown",
      "metadata": {
        "id": "iSNOX1DlStvl"
      },
      "source": [
        "*italicized text*### Modeling"
      ]
    },
    {
      "cell_type": "code",
      "execution_count": 5,
      "metadata": {
        "colab": {
          "base_uri": "https://localhost:8080/"
        },
        "id": "LyOGxyrPe17Q",
        "outputId": "11c3e1bc-13ec-4e1a-893b-1cfafe82d0aa"
      },
      "outputs": [
        {
          "output_type": "stream",
          "name": "stdout",
          "text": [
            "3.7.13\n"
          ]
        }
      ],
      "source": [
        "from platform import python_version\n",
        "print(python_version())"
      ]
    },
    {
      "cell_type": "code",
      "execution_count": 6,
      "metadata": {
        "colab": {
          "base_uri": "https://localhost:8080/"
        },
        "id": "bX5EZu9pfSkR",
        "outputId": "9d3df1fb-ba0c-4ce4-e667-bff2f1f9166c"
      },
      "outputs": [
        {
          "output_type": "stream",
          "name": "stdout",
          "text": [
            "Computer network name: 3b583578aafd\n",
            "Machine type: x86_64\n",
            "Processor type: x86_64\n",
            "Platform type: Linux-5.4.188+-x86_64-with-Ubuntu-18.04-bionic\n",
            "Operating system: Linux\n",
            "Operating system release: 5.4.188+\n",
            "Operating system version: #1 SMP Sun Apr 24 10:03:06 PDT 2022\n"
          ]
        }
      ],
      "source": [
        "import platform\n",
        "print(f\"Computer network name: {platform.node()}\")\n",
        "#Machine type\n",
        "print(f\"Machine type: {platform.machine()}\")\n",
        "#Processor type\n",
        "print(f\"Processor type: {platform.processor()}\")\n",
        "#Platform type\n",
        "print(f\"Platform type: {platform.platform()}\")\n",
        "#Operating system\n",
        "print(f\"Operating system: {platform.system()}\")\n",
        "#Operating system release\n",
        "print(f\"Operating system release: {platform.release()}\")\n",
        "#Operating system version\n",
        "print(f\"Operating system version: {platform.version()}\")"
      ]
    },
    {
      "cell_type": "code",
      "execution_count": 7,
      "metadata": {
        "colab": {
          "base_uri": "https://localhost:8080/"
        },
        "id": "OunO6BMajoMX",
        "outputId": "ae530a49-5b5b-475d-db92-e0549965a1b3"
      },
      "outputs": [
        {
          "output_type": "stream",
          "name": "stdout",
          "text": [
            "Total RAM installed: 13.62 GB\n",
            "Available RAM: 12.14 GB\n",
            "Used RAM: 1.3 GB\n",
            "RAM usage: 10.8%\n"
          ]
        }
      ],
      "source": [
        "import psutil\n",
        "#Total RAM\n",
        "print(f\"Total RAM installed: {round(psutil.virtual_memory().total/1000000000, 2)} GB\")\n",
        "#Available RAM\n",
        "print(f\"Available RAM: {round(psutil.virtual_memory().available/1000000000, 2)} GB\")\n",
        "#Used RAM\n",
        "print(f\"Used RAM: {round(psutil.virtual_memory().used/1000000000, 2)} GB\")\n",
        "#RAM usage\n",
        "print(f\"RAM usage: {psutil.virtual_memory().percent}%\")"
      ]
    },
    {
      "cell_type": "markdown",
      "metadata": {
        "id": "vIbU15TtSrSF"
      },
      "source": [
        "several Neural Network architectures will be tested here\n",
        "\n",
        "ANN AutoEncoder with single dense layer\n",
        "\n",
        "ANN AutoEncoder with double dense layers\n",
        "\n",
        "LSTM AutoEncoder with single reccurent layer\n",
        "\n",
        "Stacked LSTM AutoEncoder with double reccurent layers\n",
        "\n",
        "CNN-LSTM AutoEncoder with convolution layer to encode feature\n",
        "\n",
        "Birectional-LSTM AutoEncoder with birectional-lstm layer in encoder and decoder architecture"
      ]
    },
    {
      "cell_type": "markdown",
      "metadata": {
        "id": "jX91eQqmSx0k"
      },
      "source": [
        "### Importing nessesary libraries and modules"
      ]
    },
    {
      "cell_type": "code",
      "execution_count": 8,
      "metadata": {
        "id": "VUy2vrKTS1zu"
      },
      "outputs": [],
      "source": [
        "import numpy as np\n",
        "import pandas as pd\n",
        "import matplotlib.pyplot as plt\n",
        "import seaborn as sns\n",
        "import tensorflow as tf\n",
        "from tensorflow.keras.models import Sequential\n",
        "import math\n",
        "import pickle \n",
        "from sklearn.metrics import mean_absolute_error, accuracy_score\n",
        "from tensorflow.compat.v1.keras.layers import Dense, TimeDistributed, CuDNNLSTM, RepeatVector, Conv1D, Bidirectional\n",
        "from helpers import *"
      ]
    },
    {
      "cell_type": "code",
      "execution_count": 9,
      "metadata": {
        "id": "rusyEfqQS4KF"
      },
      "outputs": [],
      "source": [
        "train_dataset = pd.read_csv(\"/content/trainingset1.csv\", index_col=0)\n",
        "val_dataset = pd.read_csv(\"/content/Validtionset1.csv\", index_col=0)\n",
        "test_dataset = pd.read_csv(\"/content/testset1.csv\", index_col=0)"
      ]
    },
    {
      "cell_type": "markdown",
      "metadata": {
        "id": "Y-MrRV25mcNT"
      },
      "source": [
        "# New Section"
      ]
    },
    {
      "cell_type": "code",
      "execution_count": 10,
      "metadata": {
        "id": "ULYP4qMMS6oN",
        "colab": {
          "base_uri": "https://localhost:8080/",
          "height": 238
        },
        "outputId": "48f819cf-377a-4651-8a8e-499ada9076e5"
      },
      "outputs": [
        {
          "output_type": "execute_result",
          "data": {
            "text/plain": [
              "      a6    a7  a8  label\n",
              "a1                       \n",
              "1   0.38  0.00   0      1\n",
              "2   0.67  0.00   0      1\n",
              "3   0.45  0.00   0      1\n",
              "4   0.48  0.17   1      1\n",
              "5   0.20  0.17   1      1"
            ],
            "text/html": [
              "\n",
              "  <div id=\"df-47ddee14-69c7-475a-a574-c78249cc0c60\">\n",
              "    <div class=\"colab-df-container\">\n",
              "      <div>\n",
              "<style scoped>\n",
              "    .dataframe tbody tr th:only-of-type {\n",
              "        vertical-align: middle;\n",
              "    }\n",
              "\n",
              "    .dataframe tbody tr th {\n",
              "        vertical-align: top;\n",
              "    }\n",
              "\n",
              "    .dataframe thead th {\n",
              "        text-align: right;\n",
              "    }\n",
              "</style>\n",
              "<table border=\"1\" class=\"dataframe\">\n",
              "  <thead>\n",
              "    <tr style=\"text-align: right;\">\n",
              "      <th></th>\n",
              "      <th>a6</th>\n",
              "      <th>a7</th>\n",
              "      <th>a8</th>\n",
              "      <th>label</th>\n",
              "    </tr>\n",
              "    <tr>\n",
              "      <th>a1</th>\n",
              "      <th></th>\n",
              "      <th></th>\n",
              "      <th></th>\n",
              "      <th></th>\n",
              "    </tr>\n",
              "  </thead>\n",
              "  <tbody>\n",
              "    <tr>\n",
              "      <th>1</th>\n",
              "      <td>0.38</td>\n",
              "      <td>0.00</td>\n",
              "      <td>0</td>\n",
              "      <td>1</td>\n",
              "    </tr>\n",
              "    <tr>\n",
              "      <th>2</th>\n",
              "      <td>0.67</td>\n",
              "      <td>0.00</td>\n",
              "      <td>0</td>\n",
              "      <td>1</td>\n",
              "    </tr>\n",
              "    <tr>\n",
              "      <th>3</th>\n",
              "      <td>0.45</td>\n",
              "      <td>0.00</td>\n",
              "      <td>0</td>\n",
              "      <td>1</td>\n",
              "    </tr>\n",
              "    <tr>\n",
              "      <th>4</th>\n",
              "      <td>0.48</td>\n",
              "      <td>0.17</td>\n",
              "      <td>1</td>\n",
              "      <td>1</td>\n",
              "    </tr>\n",
              "    <tr>\n",
              "      <th>5</th>\n",
              "      <td>0.20</td>\n",
              "      <td>0.17</td>\n",
              "      <td>1</td>\n",
              "      <td>1</td>\n",
              "    </tr>\n",
              "  </tbody>\n",
              "</table>\n",
              "</div>\n",
              "      <button class=\"colab-df-convert\" onclick=\"convertToInteractive('df-47ddee14-69c7-475a-a574-c78249cc0c60')\"\n",
              "              title=\"Convert this dataframe to an interactive table.\"\n",
              "              style=\"display:none;\">\n",
              "        \n",
              "  <svg xmlns=\"http://www.w3.org/2000/svg\" height=\"24px\"viewBox=\"0 0 24 24\"\n",
              "       width=\"24px\">\n",
              "    <path d=\"M0 0h24v24H0V0z\" fill=\"none\"/>\n",
              "    <path d=\"M18.56 5.44l.94 2.06.94-2.06 2.06-.94-2.06-.94-.94-2.06-.94 2.06-2.06.94zm-11 1L8.5 8.5l.94-2.06 2.06-.94-2.06-.94L8.5 2.5l-.94 2.06-2.06.94zm10 10l.94 2.06.94-2.06 2.06-.94-2.06-.94-.94-2.06-.94 2.06-2.06.94z\"/><path d=\"M17.41 7.96l-1.37-1.37c-.4-.4-.92-.59-1.43-.59-.52 0-1.04.2-1.43.59L10.3 9.45l-7.72 7.72c-.78.78-.78 2.05 0 2.83L4 21.41c.39.39.9.59 1.41.59.51 0 1.02-.2 1.41-.59l7.78-7.78 2.81-2.81c.8-.78.8-2.07 0-2.86zM5.41 20L4 18.59l7.72-7.72 1.47 1.35L5.41 20z\"/>\n",
              "  </svg>\n",
              "      </button>\n",
              "      \n",
              "  <style>\n",
              "    .colab-df-container {\n",
              "      display:flex;\n",
              "      flex-wrap:wrap;\n",
              "      gap: 12px;\n",
              "    }\n",
              "\n",
              "    .colab-df-convert {\n",
              "      background-color: #E8F0FE;\n",
              "      border: none;\n",
              "      border-radius: 50%;\n",
              "      cursor: pointer;\n",
              "      display: none;\n",
              "      fill: #1967D2;\n",
              "      height: 32px;\n",
              "      padding: 0 0 0 0;\n",
              "      width: 32px;\n",
              "    }\n",
              "\n",
              "    .colab-df-convert:hover {\n",
              "      background-color: #E2EBFA;\n",
              "      box-shadow: 0px 1px 2px rgba(60, 64, 67, 0.3), 0px 1px 3px 1px rgba(60, 64, 67, 0.15);\n",
              "      fill: #174EA6;\n",
              "    }\n",
              "\n",
              "    [theme=dark] .colab-df-convert {\n",
              "      background-color: #3B4455;\n",
              "      fill: #D2E3FC;\n",
              "    }\n",
              "\n",
              "    [theme=dark] .colab-df-convert:hover {\n",
              "      background-color: #434B5C;\n",
              "      box-shadow: 0px 1px 3px 1px rgba(0, 0, 0, 0.15);\n",
              "      filter: drop-shadow(0px 1px 2px rgba(0, 0, 0, 0.3));\n",
              "      fill: #FFFFFF;\n",
              "    }\n",
              "  </style>\n",
              "\n",
              "      <script>\n",
              "        const buttonEl =\n",
              "          document.querySelector('#df-47ddee14-69c7-475a-a574-c78249cc0c60 button.colab-df-convert');\n",
              "        buttonEl.style.display =\n",
              "          google.colab.kernel.accessAllowed ? 'block' : 'none';\n",
              "\n",
              "        async function convertToInteractive(key) {\n",
              "          const element = document.querySelector('#df-47ddee14-69c7-475a-a574-c78249cc0c60');\n",
              "          const dataTable =\n",
              "            await google.colab.kernel.invokeFunction('convertToInteractive',\n",
              "                                                     [key], {});\n",
              "          if (!dataTable) return;\n",
              "\n",
              "          const docLinkHtml = 'Like what you see? Visit the ' +\n",
              "            '<a target=\"_blank\" href=https://colab.research.google.com/notebooks/data_table.ipynb>data table notebook</a>'\n",
              "            + ' to learn more about interactive tables.';\n",
              "          element.innerHTML = '';\n",
              "          dataTable['output_type'] = 'display_data';\n",
              "          await google.colab.output.renderOutput(dataTable, element);\n",
              "          const docLink = document.createElement('div');\n",
              "          docLink.innerHTML = docLinkHtml;\n",
              "          element.appendChild(docLink);\n",
              "        }\n",
              "      </script>\n",
              "    </div>\n",
              "  </div>\n",
              "  "
            ]
          },
          "metadata": {},
          "execution_count": 10
        }
      ],
      "source": [
        "train_dataset.head()"
      ]
    },
    {
      "cell_type": "code",
      "execution_count": 11,
      "metadata": {
        "id": "On690mVfWp2I",
        "colab": {
          "base_uri": "https://localhost:8080/"
        },
        "outputId": "18b4d0d9-9576-43f5-8b22-6fa1ff80a6c6"
      },
      "outputs": [
        {
          "output_type": "execute_result",
          "data": {
            "text/plain": [
              "a6       False\n",
              "a7       False\n",
              "a8       False\n",
              "label    False\n",
              "dtype: bool"
            ]
          },
          "metadata": {},
          "execution_count": 11
        }
      ],
      "source": [
        "train_dataset.isnull().any()"
      ]
    },
    {
      "cell_type": "markdown",
      "metadata": {
        "id": "AENDZHjfS901"
      },
      "source": [
        "### Transforming the dataset\n",
        "\n",
        "##### droping lable(last column) and changing data in to numpy arrays"
      ]
    },
    {
      "cell_type": "code",
      "execution_count": 12,
      "metadata": {
        "id": "4gB3ZKrNTAOE",
        "colab": {
          "base_uri": "https://localhost:8080/"
        },
        "outputId": "2578fd7e-fcb1-4281-ba19-f9b4acfba5df"
      },
      "outputs": [
        {
          "output_type": "stream",
          "name": "stdout",
          "text": [
            "(838861, 3)\n"
          ]
        }
      ],
      "source": [
        "X_train = np.array(train_dataset.drop(columns=['label']))\n",
        "print(X_train.shape)"
      ]
    },
    {
      "cell_type": "markdown",
      "metadata": {
        "id": "svE0maWDTCsz"
      },
      "source": [
        "### Split test and validation dataset to feature and label sets"
      ]
    },
    {
      "cell_type": "code",
      "execution_count": 13,
      "metadata": {
        "id": "WDoqLkDnTFus",
        "colab": {
          "base_uri": "https://localhost:8080/"
        },
        "outputId": "4f4ae372-b392-4ef6-cf05-a02f1fc6cbb3"
      },
      "outputs": [
        {
          "output_type": "stream",
          "name": "stdout",
          "text": [
            "(754976, 3) (754976,) (2000, 3) (2000,)\n"
          ]
        }
      ],
      "source": [
        "X_val, y_val = np.array(val_dataset.drop(columns=['label'])), np.array(val_dataset['label'])\n",
        "X_test, y_test = np.array(test_dataset.drop(columns=['label'])), np.array(test_dataset['label'])\n",
        "\n",
        "print(X_val.shape, y_val.shape, X_test.shape, y_test.shape)"
      ]
    },
    {
      "cell_type": "code",
      "execution_count": 14,
      "metadata": {
        "id": "JcFtmex23UXQ",
        "colab": {
          "base_uri": "https://localhost:8080/"
        },
        "outputId": "474a8568-a599-484c-d36f-fe964919155e"
      },
      "outputs": [
        {
          "output_type": "stream",
          "name": "stdout",
          "text": [
            "(838861, 3)\n"
          ]
        }
      ],
      "source": [
        "X_train = np.array(train_dataset.drop(columns=['label']))\n",
        "print(X_train.shape)"
      ]
    },
    {
      "cell_type": "code",
      "execution_count": 15,
      "metadata": {
        "id": "mkXYclGp1sQS",
        "colab": {
          "base_uri": "https://localhost:8080/"
        },
        "outputId": "79f3b194-c2f9-4b65-fd15-28faf063a227"
      },
      "outputs": [
        {
          "output_type": "stream",
          "name": "stdout",
          "text": [
            "tf.Tensor(\n",
            "[[0.38 0.   0.  ]\n",
            " [0.67 0.   0.  ]\n",
            " [0.45 0.   0.  ]\n",
            " ...\n",
            " [0.82 0.5  1.  ]\n",
            " [2.33 1.17 1.  ]\n",
            " [1.68 0.   0.  ]], shape=(838861, 3), dtype=float32)\n"
          ]
        }
      ],
      "source": [
        "X_train_3d=tf.convert_to_tensor(X_train ,dtype=tf.float32)\n",
        "print(X_train_3d)"
      ]
    },
    {
      "cell_type": "code",
      "execution_count": 16,
      "metadata": {
        "id": "2D37ZSngb6_f",
        "colab": {
          "base_uri": "https://localhost:8080/"
        },
        "outputId": "6ee0b740-26c2-4076-ec62-3ea17011bbc0"
      },
      "outputs": [
        {
          "output_type": "stream",
          "name": "stdout",
          "text": [
            "tf.Tensor(\n",
            "[[0.33 0.   0.  ]\n",
            " [4.77 2.5  1.  ]\n",
            " [0.57 0.33 1.  ]\n",
            " ...\n",
            " [0.82 0.5  1.  ]\n",
            " [2.33 1.17 1.  ]\n",
            " [1.68 0.   0.  ]], shape=(754976, 3), dtype=float32)\n"
          ]
        }
      ],
      "source": [
        "X_val_3d=tf.convert_to_tensor(X_val ,dtype=tf.float32)\n",
        "print(X_val_3d)"
      ]
    },
    {
      "cell_type": "code",
      "execution_count": 17,
      "metadata": {
        "id": "jYmQKs1ubM1i",
        "colab": {
          "base_uri": "https://localhost:8080/"
        },
        "outputId": "6ba012ff-ca62-4cf2-92c3-7abe966685d5"
      },
      "outputs": [
        {
          "output_type": "stream",
          "name": "stdout",
          "text": [
            "tf.Tensor(\n",
            "[[0.73333335 0.3496     1.        ]\n",
            " [0.3        0.1748     1.        ]\n",
            " [0.13333334 0.1748     1.        ]\n",
            " ...\n",
            " [1.2833333  0.         0.        ]\n",
            " [1.1        0.5244     1.        ]\n",
            " [1.0166667  0.5244     1.        ]], shape=(2000, 3), dtype=float32)\n"
          ]
        }
      ],
      "source": [
        "X_test_3d=tf.convert_to_tensor(X_test ,dtype=tf.float32)\n",
        "print(X_test_3d)"
      ]
    },
    {
      "cell_type": "markdown",
      "metadata": {
        "id": "inQbRKZrTIJd"
      },
      "source": [
        "### Reshape feature set to desire format for LSTM (3d array)"
      ]
    },
    {
      "cell_type": "code",
      "execution_count": 18,
      "metadata": {
        "id": "H_HyQEntTKMF",
        "colab": {
          "base_uri": "https://localhost:8080/"
        },
        "outputId": "47cd6f3c-174c-4a7a-fe59-426cc6944882"
      },
      "outputs": [
        {
          "output_type": "stream",
          "name": "stdout",
          "text": [
            "(838861, 3, 1) (2000, 3, 1)\n"
          ]
        }
      ],
      "source": [
        "# reshapeing to [num samples, num timesteps, num features]\n",
        "X_train_3d = X_train.reshape(*X_train.shape,1)\n",
        "X_val_3d = X_val.reshape(*X_val.shape,1)\n",
        "X_test_3d = X_test.reshape(*X_test.shape,1)\n",
        "\n",
        "print(X_train_3d.shape, X_test_3d.shape)"
      ]
    },
    {
      "cell_type": "markdown",
      "metadata": {
        "id": "rQ8FfgE0TMUT"
      },
      "source": [
        "## Model training"
      ]
    },
    {
      "cell_type": "markdown",
      "metadata": {
        "id": "1DNowDIITOrE"
      },
      "source": [
        " heartbeat sequence from the train set will be used as input and output for AutoEncoders. the reconstruction loss on training data will be recorded and then the validation set will be used to set the treshhold which will result in highest accuracy. The accuracy on the test set will be calculated and choose examples to show how well AutoEncoders can reproduce the input sequence."
      ]
    },
    {
      "cell_type": "markdown",
      "metadata": {
        "id": "gGSoYasHTRSl"
      },
      "source": [
        "### Specifing training conditions"
      ]
    },
    {
      "cell_type": "code",
      "execution_count": 19,
      "metadata": {
        "id": "fiuprYWLTS9c"
      },
      "outputs": [],
      "source": [
        "EARLY_STOPPING = tf.keras.callbacks.EarlyStopping(\n",
        "    monitor='loss', \n",
        "    min_delta=0,\n",
        "    verbose=1,\n",
        "    patience=10,\n",
        "    mode='min',\n",
        "    baseline=None,\n",
        "    restore_best_weights=True)\n",
        "\n",
        "EPOCHS = 20\n",
        "BATCH_SIZE = 32\n",
        "\n",
        "# placeholder of predition metrics\n",
        "results = Metrics()"
      ]
    },
    {
      "cell_type": "markdown",
      "metadata": {
        "id": "-agPjq37U1O8"
      },
      "source": [
        "### **LSTM AutoEncoder**"
      ]
    },
    {
      "cell_type": "markdown",
      "metadata": {
        "id": "AUcGnbXHU8DM"
      },
      "source": [
        "## **Building the model** "
      ]
    },
    {
      "cell_type": "code",
      "execution_count": 20,
      "metadata": {
        "id": "4d-yZ8UsU86m",
        "colab": {
          "base_uri": "https://localhost:8080/"
        },
        "outputId": "52f5290f-b9b5-400b-8b0c-795801e6ab84"
      },
      "outputs": [
        {
          "output_type": "stream",
          "name": "stdout",
          "text": [
            "Model: \"sequential\"\n",
            "_________________________________________________________________\n",
            " Layer (type)                Output Shape              Param #   \n",
            "=================================================================\n",
            " cu_dnnlstm (CuDNNLSTM)      (None, 64)                17152     \n",
            "                                                                 \n",
            " repeat_vector (RepeatVector  (None, 3, 64)            0         \n",
            " )                                                               \n",
            "                                                                 \n",
            " cu_dnnlstm_1 (CuDNNLSTM)    (None, 3, 64)             33280     \n",
            "                                                                 \n",
            " time_distributed (TimeDistr  (None, 3, 1)             65        \n",
            " ibuted)                                                         \n",
            "                                                                 \n",
            "=================================================================\n",
            "Total params: 50,497\n",
            "Trainable params: 50,497\n",
            "Non-trainable params: 0\n",
            "_________________________________________________________________\n"
          ]
        }
      ],
      "source": [
        "# Build model\n",
        "model = Sequential()\n",
        "model.add(CuDNNLSTM(64, input_shape=(X_train_3d.shape[1:]) ) )\n",
        "model.add(RepeatVector(X_train.shape[1]) )\n",
        "model.add(CuDNNLSTM(64, return_sequences=True) )\n",
        "model.add(TimeDistributed(Dense(1) ) )\n",
        "model.compile(loss='mae', optimizer='adam')\n",
        "model.summary()"
      ]
    },
    {
      "cell_type": "markdown",
      "metadata": {
        "id": "23aoOoANVGI0"
      },
      "source": [
        " ## **Fit the model**"
      ]
    },
    {
      "cell_type": "code",
      "execution_count": 21,
      "metadata": {
        "id": "-0ESXyrCVIqE",
        "colab": {
          "base_uri": "https://localhost:8080/",
          "height": 353
        },
        "outputId": "edabc049-ec72-40ba-ef6f-9f682f54b30c"
      },
      "outputs": [
        {
          "output_type": "display_data",
          "data": {
            "text/plain": [
              "<Figure size 720x360 with 1 Axes>"
            ],
            "image/png": "[encoded data removed]"
          },
          "metadata": {
            "needs_background": "light"
          }
        },
        {
          "output_type": "execute_result",
          "data": {
            "text/plain": [
              "<keras.engine.sequential.Sequential at 0x7f1612cba710>"
            ]
          },
          "metadata": {},
          "execution_count": 21
        }
      ],
      "source": [
        "fit_model(model, X_train_3d, EPOCHS, BATCH_SIZE, verbose=0, callbacks=[EARLY_STOPPING])"
      ]
    },
    {
      "cell_type": "markdown",
      "metadata": {
        "id": "Qm0GI2ndWWeM"
      },
      "source": [
        "### **Makeing predictions and calculating reconstruction error for each dataset**"
      ]
    },
    {
      "cell_type": "code",
      "execution_count": 22,
      "metadata": {
        "id": "GSSrakOgWYns",
        "colab": {
          "base_uri": "https://localhost:8080/",
          "height": 336
        },
        "outputId": "a2673567-59ea-4979-aae6-17081cf5786f"
      },
      "outputs": [
        {
          "output_type": "stream",
          "name": "stderr",
          "text": [
            "/usr/local/lib/python3.7/dist-packages/seaborn/distributions.py:2619: FutureWarning: `distplot` is a deprecated function and will be removed in a future version. Please adapt your code to use either `displot` (a figure-level function with similar flexibility) or `histplot` (an axes-level function for histograms).\n",
            "  warnings.warn(msg, FutureWarning)\n"
          ]
        },
        {
          "output_type": "display_data",
          "data": {
            "text/plain": [
              "<Figure size 432x288 with 1 Axes>"
            ],
            "image/png": "[encoded data removed]"
          },
          "metadata": {
            "needs_background": "light"
          }
        }
      ],
      "source": [
        "# make predictions (reconstructions) for each dataset\n",
        "X_train_pred, X_val_pred, X_test_pred = make_predictions(model, X_train_3d, X_val_3d, X_test_3d)\n",
        "\n",
        "# calculate reconstructions losses for each dataset\n",
        "train_loss, val_loss, test_loss = calculate_reconstrucion_losses(X_train_3d, X_train_pred, \n",
        "                                                                 X_val_3d, X_val_pred,\n",
        "                                                                 X_test_3d, X_test_pred)\n",
        "\n",
        "# show train reconstrucion losses distribution\n",
        "plt.title('Train reconstrucion losses distribution')\n",
        "sns.distplot(train_loss, bins=50, kde=True);"
      ]
    },
    {
      "cell_type": "markdown",
      "metadata": {
        "id": "fZw_MJGGWsjl"
      },
      "source": [
        "###**Selecting threshold for maximum accuracy** "
      ]
    },
    {
      "cell_type": "code",
      "execution_count": 23,
      "metadata": {
        "id": "r47fg2BpWvEl",
        "colab": {
          "base_uri": "https://localhost:8080/"
        },
        "outputId": "f9f91151-605b-4483-c907-1821b2f3bae6"
      },
      "outputs": [
        {
          "output_type": "stream",
          "name": "stdout",
          "text": [
            "Perentile:90 Threshold: 0.0043 Validation Accuracy: 0.8974\n",
            "Perentile:91 Threshold: 0.0044 Validation Accuracy: 0.9069\n",
            "Perentile:92 Threshold: 0.0045 Validation Accuracy: 0.9174\n",
            "Perentile:93 Threshold: 0.0046 Validation Accuracy: 0.927\n",
            "Perentile:94 Threshold: 0.0058 Validation Accuracy: 0.9375\n",
            "Perentile:95 Threshold: 0.0075 Validation Accuracy: 0.9479\n",
            "Perentile:96 Threshold: 0.0092 Validation Accuracy: 0.9582\n",
            "Perentile:97 Threshold: 0.0135 Validation Accuracy: 0.9685\n",
            "Perentile:98 Threshold: 0.0232 Validation Accuracy: 0.979\n",
            "Perentile:99 Threshold: 0.0435 Validation Accuracy: 0.9894\n",
            "-----------------------------------------------------------------\n",
            "Best validation accuracy: 0.9894 for threshold: 0.0435\n"
          ]
        }
      ],
      "source": [
        "# define percentile range for tesing threshold\n",
        "percentiles = range(90,100)\n",
        "\n",
        "threshold = select_threshold(train_loss, y_val, val_loss, percentiles)"
      ]
    },
    {
      "cell_type": "markdown",
      "metadata": {
        "id": "klH4CX-vXEfV"
      },
      "source": [
        "**Calculating prediction metrics and adding them to a placeholder**"
      ]
    },
    {
      "cell_type": "code",
      "execution_count": 24,
      "metadata": {
        "id": "ZW95HhZfXQIj",
        "colab": {
          "base_uri": "https://localhost:8080/"
        },
        "outputId": "4589fade-7d8a-432a-c87c-03aeb46c558f"
      },
      "outputs": [
        {
          "output_type": "stream",
          "name": "stdout",
          "text": [
            "Test accuracy score: 0.944\n",
            "Test precision score: 0.944\n",
            "Test recall score: 1.0\n",
            "Test f1 score: 0.9712\n"
          ]
        }
      ],
      "source": [
        "# predict test set classes based on test reconctrucion losses and selected threshold\n",
        "y_test_pred = [int(x < threshold) for x in test_loss]\n",
        "\n",
        "# calculate and print predicion metrics\n",
        "test_accuracy, test_precision, test_recall, test_f1_score = calculate_prediction_metrics(y_test, y_test_pred, verbose=1)\n",
        "\n",
        "# add prediction metrics to place holder\n",
        "results.add_components('LSTM AutoEncoder', X_test_pred, y_test_pred, test_accuracy, test_precision, test_recall, test_f1_score)"
      ]
    },
    {
      "cell_type": "markdown",
      "metadata": {
        "id": "Hrx2C-BAXg5b"
      },
      "source": [
        "### **visualization for correctly predicted class**"
      ]
    },
    {
      "cell_type": "code",
      "execution_count": 25,
      "metadata": {
        "id": "vDaZRep-XrAU",
        "colab": {
          "base_uri": "https://localhost:8080/",
          "height": 927
        },
        "outputId": "5b2f28f7-26b3-4e84-be02-7801f89e852d"
      },
      "outputs": [
        {
          "output_type": "error",
          "ename": "ValueError",
          "evalue": "ignored",
          "traceback": [
            "\u001b[0;31m---------------------------------------------------------------------------\u001b[0m",
            "\u001b[0;31mValueError\u001b[0m                                Traceback (most recent call last)",
            "\u001b[0;32m<ipython-input-25-2ff7e3984be7>\u001b[0m in \u001b[0;36m<module>\u001b[0;34m()\u001b[0m\n\u001b[1;32m     12\u001b[0m                     \u001b[0mnrows\u001b[0m\u001b[0;34m=\u001b[0m\u001b[0;36m2\u001b[0m\u001b[0;34m,\u001b[0m\u001b[0;34m\u001b[0m\u001b[0;34m\u001b[0m\u001b[0m\n\u001b[1;32m     13\u001b[0m                     \u001b[0mncols\u001b[0m\u001b[0;34m=\u001b[0m\u001b[0;36m6\u001b[0m\u001b[0;34m,\u001b[0m\u001b[0;34m\u001b[0m\u001b[0;34m\u001b[0m\u001b[0m\n\u001b[0;32m---> 14\u001b[0;31m                     figsize=(22, 8) )\n\u001b[0m",
            "\u001b[0;32m/content/helpers.py\u001b[0m in \u001b[0;36mplot_recontructions\u001b[0;34m(model, X_1, X_2, threshold, title_1, title_2, nrows, ncols, figsize)\u001b[0m\n\u001b[1;32m    203\u001b[0m \u001b[0;34m\u001b[0m\u001b[0m\n\u001b[1;32m    204\u001b[0m     \u001b[0;32mfor\u001b[0m \u001b[0mi\u001b[0m \u001b[0;32min\u001b[0m \u001b[0mrange\u001b[0m\u001b[0;34m(\u001b[0m\u001b[0mncols\u001b[0m\u001b[0;34m)\u001b[0m\u001b[0;34m:\u001b[0m\u001b[0;34m\u001b[0m\u001b[0;34m\u001b[0m\u001b[0m\n\u001b[0;32m--> 205\u001b[0;31m         \u001b[0mplot_prediction\u001b[0m\u001b[0;34m(\u001b[0m\u001b[0mX_2\u001b[0m\u001b[0;34m[\u001b[0m\u001b[0mi\u001b[0m\u001b[0;34m:\u001b[0m\u001b[0mi\u001b[0m\u001b[0;34m+\u001b[0m\u001b[0;36m1\u001b[0m\u001b[0;34m]\u001b[0m\u001b[0;34m,\u001b[0m \u001b[0mmodel\u001b[0m\u001b[0;34m,\u001b[0m \u001b[0mtitle\u001b[0m\u001b[0;34m=\u001b[0m\u001b[0mtitle_2\u001b[0m\u001b[0;34m,\u001b[0m \u001b[0max\u001b[0m\u001b[0;34m=\u001b[0m\u001b[0maxs\u001b[0m\u001b[0;34m[\u001b[0m\u001b[0;36m1\u001b[0m\u001b[0;34m,\u001b[0m \u001b[0mi\u001b[0m\u001b[0;34m]\u001b[0m\u001b[0;34m)\u001b[0m\u001b[0;34m\u001b[0m\u001b[0;34m\u001b[0m\u001b[0m\n\u001b[0m\u001b[1;32m    206\u001b[0m \u001b[0;34m\u001b[0m\u001b[0m\n\u001b[1;32m    207\u001b[0m     \u001b[0mfig\u001b[0m\u001b[0;34m.\u001b[0m\u001b[0mtight_layout\u001b[0m\u001b[0;34m(\u001b[0m\u001b[0;34m)\u001b[0m\u001b[0;34m;\u001b[0m\u001b[0;34m\u001b[0m\u001b[0;34m\u001b[0m\u001b[0m\n",
            "\u001b[0;32m/content/helpers.py\u001b[0m in \u001b[0;36mplot_prediction\u001b[0;34m(data, model, title, ax)\u001b[0m\n\u001b[1;32m    185\u001b[0m \u001b[0;32mdef\u001b[0m \u001b[0mplot_prediction\u001b[0m\u001b[0;34m(\u001b[0m\u001b[0mdata\u001b[0m\u001b[0;34m,\u001b[0m \u001b[0mmodel\u001b[0m\u001b[0;34m,\u001b[0m \u001b[0mtitle\u001b[0m\u001b[0;34m,\u001b[0m \u001b[0max\u001b[0m\u001b[0;34m)\u001b[0m\u001b[0;34m:\u001b[0m\u001b[0;34m\u001b[0m\u001b[0;34m\u001b[0m\u001b[0m\n\u001b[1;32m    186\u001b[0m     \u001b[0;34m''' plot simple sequence reconstruction '''\u001b[0m\u001b[0;34m\u001b[0m\u001b[0;34m\u001b[0m\u001b[0m\n\u001b[0;32m--> 187\u001b[0;31m     \u001b[0mpredictions\u001b[0m \u001b[0;34m=\u001b[0m \u001b[0mmodel\u001b[0m\u001b[0;34m.\u001b[0m\u001b[0mpredict\u001b[0m\u001b[0;34m(\u001b[0m\u001b[0mdata\u001b[0m\u001b[0;34m)\u001b[0m\u001b[0;34m\u001b[0m\u001b[0;34m\u001b[0m\u001b[0m\n\u001b[0m\u001b[1;32m    188\u001b[0m     \u001b[0mpred_losses\u001b[0m \u001b[0;34m=\u001b[0m \u001b[0mmean_absolute_error\u001b[0m\u001b[0;34m(\u001b[0m\u001b[0mpredictions\u001b[0m\u001b[0;34m.\u001b[0m\u001b[0mflatten\u001b[0m\u001b[0;34m(\u001b[0m\u001b[0;34m)\u001b[0m\u001b[0;34m,\u001b[0m \u001b[0mdata\u001b[0m\u001b[0;34m.\u001b[0m\u001b[0mflatten\u001b[0m\u001b[0;34m(\u001b[0m\u001b[0;34m)\u001b[0m\u001b[0;34m)\u001b[0m\u001b[0;34m\u001b[0m\u001b[0;34m\u001b[0m\u001b[0m\n\u001b[1;32m    189\u001b[0m     \u001b[0max\u001b[0m\u001b[0;34m.\u001b[0m\u001b[0mplot\u001b[0m\u001b[0;34m(\u001b[0m\u001b[0mdata\u001b[0m\u001b[0;34m.\u001b[0m\u001b[0mflatten\u001b[0m\u001b[0;34m(\u001b[0m\u001b[0;34m)\u001b[0m\u001b[0;34m,\u001b[0m \u001b[0mlabel\u001b[0m\u001b[0;34m=\u001b[0m\u001b[0;34m'true'\u001b[0m\u001b[0;34m)\u001b[0m\u001b[0;34m\u001b[0m\u001b[0;34m\u001b[0m\u001b[0m\n",
            "\u001b[0;32m/usr/local/lib/python3.7/dist-packages/keras/utils/traceback_utils.py\u001b[0m in \u001b[0;36merror_handler\u001b[0;34m(*args, **kwargs)\u001b[0m\n\u001b[1;32m     65\u001b[0m     \u001b[0;32mexcept\u001b[0m \u001b[0mException\u001b[0m \u001b[0;32mas\u001b[0m \u001b[0me\u001b[0m\u001b[0;34m:\u001b[0m  \u001b[0;31m# pylint: disable=broad-except\u001b[0m\u001b[0;34m\u001b[0m\u001b[0;34m\u001b[0m\u001b[0m\n\u001b[1;32m     66\u001b[0m       \u001b[0mfiltered_tb\u001b[0m \u001b[0;34m=\u001b[0m \u001b[0m_process_traceback_frames\u001b[0m\u001b[0;34m(\u001b[0m\u001b[0me\u001b[0m\u001b[0;34m.\u001b[0m\u001b[0m__traceback__\u001b[0m\u001b[0;34m)\u001b[0m\u001b[0;34m\u001b[0m\u001b[0;34m\u001b[0m\u001b[0m\n\u001b[0;32m---> 67\u001b[0;31m       \u001b[0;32mraise\u001b[0m \u001b[0me\u001b[0m\u001b[0;34m.\u001b[0m\u001b[0mwith_traceback\u001b[0m\u001b[0;34m(\u001b[0m\u001b[0mfiltered_tb\u001b[0m\u001b[0;34m)\u001b[0m \u001b[0;32mfrom\u001b[0m \u001b[0;32mNone\u001b[0m\u001b[0;34m\u001b[0m\u001b[0;34m\u001b[0m\u001b[0m\n\u001b[0m\u001b[1;32m     68\u001b[0m     \u001b[0;32mfinally\u001b[0m\u001b[0;34m:\u001b[0m\u001b[0;34m\u001b[0m\u001b[0;34m\u001b[0m\u001b[0m\n\u001b[1;32m     69\u001b[0m       \u001b[0;32mdel\u001b[0m \u001b[0mfiltered_tb\u001b[0m\u001b[0;34m\u001b[0m\u001b[0;34m\u001b[0m\u001b[0m\n",
            "\u001b[0;32m/usr/local/lib/python3.7/dist-packages/keras/engine/training.py\u001b[0m in \u001b[0;36mpredict\u001b[0;34m(self, x, batch_size, verbose, steps, callbacks, max_queue_size, workers, use_multiprocessing)\u001b[0m\n\u001b[1;32m   1995\u001b[0m             \u001b[0mcallbacks\u001b[0m\u001b[0;34m.\u001b[0m\u001b[0mon_predict_batch_end\u001b[0m\u001b[0;34m(\u001b[0m\u001b[0mend_step\u001b[0m\u001b[0;34m,\u001b[0m \u001b[0;34m{\u001b[0m\u001b[0;34m'outputs'\u001b[0m\u001b[0;34m:\u001b[0m \u001b[0mbatch_outputs\u001b[0m\u001b[0;34m}\u001b[0m\u001b[0;34m)\u001b[0m\u001b[0;34m\u001b[0m\u001b[0;34m\u001b[0m\u001b[0m\n\u001b[1;32m   1996\u001b[0m       \u001b[0;32mif\u001b[0m \u001b[0mbatch_outputs\u001b[0m \u001b[0;32mis\u001b[0m \u001b[0;32mNone\u001b[0m\u001b[0;34m:\u001b[0m\u001b[0;34m\u001b[0m\u001b[0;34m\u001b[0m\u001b[0m\n\u001b[0;32m-> 1997\u001b[0;31m         raise ValueError('Unexpected result of `predict_function` '\n\u001b[0m\u001b[1;32m   1998\u001b[0m                          \u001b[0;34m'(Empty batch_outputs). Please use '\u001b[0m\u001b[0;34m\u001b[0m\u001b[0;34m\u001b[0m\u001b[0m\n\u001b[1;32m   1999\u001b[0m                          \u001b[0;34m'`Model.compile(..., run_eagerly=True)`, or '\u001b[0m\u001b[0;34m\u001b[0m\u001b[0;34m\u001b[0m\u001b[0m\n",
            "\u001b[0;31mValueError\u001b[0m: Unexpected result of `predict_function` (Empty batch_outputs). Please use `Model.compile(..., run_eagerly=True)`, or `tf.config.run_functions_eagerly(True)` for more information of where went wrong, or file a issue/bug to `tf.keras`."
          ]
        },
        {
          "output_type": "display_data",
          "data": {
            "text/plain": [
              "<Figure size 1584x576 with 12 Axes>"
            ],
            "image/png": "[encoded data removed]"
          },
          "metadata": {
            "needs_background": "light"
          }
        }
      ],
      "source": [
        "# corrected classified normal and anomaly sequences   \n",
        "X_test_normal = X_test_3d[(y_test==1)  & (np.array(y_test_pred)==1)]\n",
        "X_test_anomaly = X_test_3d[(y_test==0) & (np.array(y_test_pred)==0)]\n",
        "\n",
        "# print sequences\n",
        "plot_recontructions(model,\n",
        "                    X_test_normal,\n",
        "                    X_test_anomaly,\n",
        "                    threshold,\n",
        "                    'True Positive',\n",
        "                    'True Negative',\n",
        "                    nrows=2,\n",
        "                    ncols=6,\n",
        "                    figsize=(22, 8) )"
      ]
    },
    {
      "cell_type": "markdown",
      "metadata": {
        "id": "C7Iru664YSXT"
      },
      "source": [
        "Point : LSTM AutoEncoder learned some pattern from training data (an additional peak at the end of the sequence) and tries to recreate it in each sequence - it's easy to see on the anomaly plots."
      ]
    },
    {
      "cell_type": "markdown",
      "metadata": {
        "id": "TQoyGogGYghT"
      },
      "source": [
        "### **visualization for incorrectly predicted/classified normal and anomaly sequences**"
      ]
    },
    {
      "cell_type": "code",
      "execution_count": 26,
      "metadata": {
        "id": "fyZyjDx3Yi6Q",
        "colab": {
          "base_uri": "https://localhost:8080/",
          "height": 34
        },
        "outputId": "73934fce-9b2a-420d-ba68-5b61519913d8"
      },
      "outputs": [
        {
          "output_type": "display_data",
          "data": {
            "text/plain": [
              "<Figure size 1584x576 with 0 Axes>"
            ]
          },
          "metadata": {}
        }
      ],
      "source": [
        "# incorrected classified normal and anomaly sequences   \n",
        "X_test_normal_classified_as_anomaly = X_test_3d[(y_test==1)  & (np.array(y_test_pred)==0)]\n",
        "X_test_anomaly_classified_as_normal = X_test_3d[(y_test==0) & (np.array(y_test_pred)==1)]\n",
        "\n",
        "# if the number of incorrectly classified samples in at least one case is less than 6\n",
        "ncols = np.min([len(X_test_normal_classified_as_anomaly), \n",
        "                len(X_test_anomaly_classified_as_normal), \n",
        "                6])\n",
        "\n",
        "# print sequences\n",
        "plot_recontructions(model,\n",
        "                    X_test_normal_classified_as_anomaly,\n",
        "                    X_test_anomaly_classified_as_normal,\n",
        "                    threshold,\n",
        "                    'False Positive',\n",
        "                    'False Negative',\n",
        "                    nrows=2,\n",
        "                    ncols=ncols,\n",
        "                    figsize=(22, 8) )"
      ]
    },
    {
      "cell_type": "markdown",
      "metadata": {
        "id": "QSmDJIysY40n"
      },
      "source": [
        "### **Saving the model for future**"
      ]
    },
    {
      "cell_type": "code",
      "execution_count": 27,
      "metadata": {
        "id": "0FKq-kQXY7i_"
      },
      "outputs": [],
      "source": [
        "model.save('LSTM_AutoEncoder.h5')"
      ]
    },
    {
      "cell_type": "markdown",
      "metadata": {
        "id": "TlBGaxw8ZLpF"
      },
      "source": [
        "### **Stacked LSTM AutoEncoder**"
      ]
    },
    {
      "cell_type": "markdown",
      "metadata": {
        "id": "16hVtcdcZQVb"
      },
      "source": [
        "## **Building the model** "
      ]
    },
    {
      "cell_type": "code",
      "execution_count": 28,
      "metadata": {
        "id": "ZzSUGj79ZZuE",
        "colab": {
          "base_uri": "https://localhost:8080/"
        },
        "outputId": "98a55fff-e1fe-484b-98aa-69f58cae1c8a"
      },
      "outputs": [
        {
          "output_type": "stream",
          "name": "stdout",
          "text": [
            "Model: \"sequential_1\"\n",
            "_________________________________________________________________\n",
            " Layer (type)                Output Shape              Param #   \n",
            "=================================================================\n",
            " cu_dnnlstm_2 (CuDNNLSTM)    (None, 3, 64)             17152     \n",
            "                                                                 \n",
            " cu_dnnlstm_3 (CuDNNLSTM)    (None, 64)                33280     \n",
            "                                                                 \n",
            " repeat_vector_1 (RepeatVect  (None, 3, 64)            0         \n",
            " or)                                                             \n",
            "                                                                 \n",
            " cu_dnnlstm_4 (CuDNNLSTM)    (None, 3, 64)             33280     \n",
            "                                                                 \n",
            " cu_dnnlstm_5 (CuDNNLSTM)    (None, 3, 64)             33280     \n",
            "                                                                 \n",
            " time_distributed_1 (TimeDis  (None, 3, 1)             65        \n",
            " tributed)                                                       \n",
            "                                                                 \n",
            "=================================================================\n",
            "Total params: 117,057\n",
            "Trainable params: 117,057\n",
            "Non-trainable params: 0\n",
            "_________________________________________________________________\n"
          ]
        }
      ],
      "source": [
        "# Build model\n",
        "model = Sequential()\n",
        "model.add(CuDNNLSTM(64, input_shape=(X_train_3d.shape[1:]), return_sequences=True))\n",
        "model.add(CuDNNLSTM(64))\n",
        "model.add(RepeatVector(X_train_3d.shape[1]))\n",
        "model.add(CuDNNLSTM(64, return_sequences=True))\n",
        "model.add(CuDNNLSTM(64, return_sequences=True))\n",
        "model.add(TimeDistributed(Dense(1)))\n",
        "model.compile(loss='mae', optimizer='adam')\n",
        "model.summary()"
      ]
    },
    {
      "cell_type": "markdown",
      "metadata": {
        "id": "UJq0bxQ-Zh68"
      },
      "source": [
        " ## **Fit the model**"
      ]
    },
    {
      "cell_type": "code",
      "execution_count": 29,
      "metadata": {
        "id": "aU2bJoGnZkVk",
        "colab": {
          "base_uri": "https://localhost:8080/",
          "height": 336
        },
        "outputId": "9784c7e4-0bf2-4779-b52e-5f12d7073557"
      },
      "outputs": [
        {
          "output_type": "display_data",
          "data": {
            "text/plain": [
              "<Figure size 720x360 with 1 Axes>"
            ],
            "image/png": "[encoded data removed]"
          },
          "metadata": {
            "needs_background": "light"
          }
        }
      ],
      "source": [
        "fit_model(model, X_train_3d, EPOCHS, BATCH_SIZE, verbose=0, callbacks=[EARLY_STOPPING]);"
      ]
    },
    {
      "cell_type": "markdown",
      "metadata": {
        "id": "3DSLShoZbAR7"
      },
      "source": [
        "### **Makeing predictions and calculating reconstruction error for each dataset**"
      ]
    },
    {
      "cell_type": "code",
      "execution_count": 30,
      "metadata": {
        "id": "lTzr0bjObMPa",
        "colab": {
          "base_uri": "https://localhost:8080/",
          "height": 281
        },
        "outputId": "c72ae218-b7fe-4bac-f536-3e464ca6cc15"
      },
      "outputs": [
        {
          "output_type": "display_data",
          "data": {
            "text/plain": [
              "<Figure size 432x288 with 1 Axes>"
            ],
            "image/png": "[encoded data removed]"
          },
          "metadata": {
            "needs_background": "light"
          }
        }
      ],
      "source": [
        "# make predictions (reconstructions) for each dataset\n",
        "X_train_pred, X_val_pred, X_test_pred = make_predictions(model, X_train_3d, X_val_3d, X_test_3d)\n",
        "\n",
        "# calculate reconstructions losses for each dataset\n",
        "train_loss, val_loss, test_loss = calculate_reconstrucion_losses(X_train_3d, X_train_pred, \n",
        "                                                                 X_val_3d, X_val_pred,\n",
        "                                                                 X_test_3d, X_test_pred)\n",
        "\n",
        "# show train reconstrucion losses distribution\n",
        "plt.title('Train reconstrucion losses distribution')\n",
        "sns.histplot(train_loss, bins=50, kde=True, stat=\"density\", linewidth=0);"
      ]
    },
    {
      "cell_type": "markdown",
      "metadata": {
        "id": "_toekPfDbu9c"
      },
      "source": [
        "###**Selecting threshold for maximum accuracy** "
      ]
    },
    {
      "cell_type": "code",
      "execution_count": 31,
      "metadata": {
        "id": "2doXpFy2bzQL",
        "colab": {
          "base_uri": "https://localhost:8080/"
        },
        "outputId": "720a8f19-d6e9-4760-927a-0af1b88cb34b"
      },
      "outputs": [
        {
          "output_type": "stream",
          "name": "stdout",
          "text": [
            "Perentile:90 Threshold: 0.0041 Validation Accuracy: 0.897\n",
            "Perentile:91 Threshold: 0.0055 Validation Accuracy: 0.9071\n",
            "Perentile:92 Threshold: 0.0065 Validation Accuracy: 0.9167\n",
            "Perentile:93 Threshold: 0.0084 Validation Accuracy: 0.9275\n",
            "Perentile:94 Threshold: 0.01 Validation Accuracy: 0.9378\n",
            "Perentile:95 Threshold: 0.0122 Validation Accuracy: 0.948\n",
            "Perentile:96 Threshold: 0.0135 Validation Accuracy: 0.9582\n",
            "Perentile:97 Threshold: 0.0197 Validation Accuracy: 0.9686\n",
            "Perentile:98 Threshold: 0.0264 Validation Accuracy: 0.979\n",
            "Perentile:99 Threshold: 0.0309 Validation Accuracy: 0.9894\n",
            "-----------------------------------------------------------------\n",
            "Best validation accuracy: 0.9894 for threshold: 0.0309\n"
          ]
        }
      ],
      "source": [
        "# define percentile range for tesing threshold\n",
        "percentiles = range(90,100)\n",
        "\n",
        "threshold = select_threshold(train_loss, y_val, val_loss, percentiles)"
      ]
    },
    {
      "cell_type": "markdown",
      "metadata": {
        "id": "rY0va0lacO7l"
      },
      "source": [
        "**Calculating prediction metrics and adding them to a placeholder**:"
      ]
    },
    {
      "cell_type": "code",
      "execution_count": 32,
      "metadata": {
        "id": "oIxq0TbKcScj",
        "colab": {
          "base_uri": "https://localhost:8080/"
        },
        "outputId": "874529c0-fae6-4765-b630-071d4e8c5521"
      },
      "outputs": [
        {
          "output_type": "stream",
          "name": "stdout",
          "text": [
            "Test accuracy score: 0.951\n",
            "Test precision score: 0.951\n",
            "Test recall score: 1.0\n",
            "Test f1 score: 0.9749\n"
          ]
        }
      ],
      "source": [
        "# predict test set classes based on test reconctrucion losses and selected threshold\n",
        "y_test_pred = [int(x < threshold) for x in test_loss]\n",
        "\n",
        "# calculate and print predicion metrics\n",
        "test_accuracy, test_precision, test_recall, test_f1_score = calculate_prediction_metrics(y_test, y_test_pred, verbose=1)\n",
        "\n",
        "# add prediction metrics to place holder\n",
        "results.add_components('Stacked LSTM AutoEncoder', X_test_pred, y_test_pred, test_accuracy, test_precision, test_recall, test_f1_score)"
      ]
    },
    {
      "cell_type": "markdown",
      "metadata": {
        "id": "fcT1iMsnciEM"
      },
      "source": [
        "### **visualization for correctly predicted class**"
      ]
    },
    {
      "cell_type": "code",
      "execution_count": 34,
      "metadata": {
        "id": "QAYesF3zcvk7",
        "colab": {
          "base_uri": "https://localhost:8080/",
          "height": 927
        },
        "outputId": "45827692-a610-4b4e-c06d-d55a513dad6a"
      },
      "outputs": [
        {
          "output_type": "error",
          "ename": "ValueError",
          "evalue": "ignored",
          "traceback": [
            "\u001b[0;31m---------------------------------------------------------------------------\u001b[0m",
            "\u001b[0;31mValueError\u001b[0m                                Traceback (most recent call last)",
            "\u001b[0;32m<ipython-input-34-2ff7e3984be7>\u001b[0m in \u001b[0;36m<module>\u001b[0;34m()\u001b[0m\n\u001b[1;32m     12\u001b[0m                     \u001b[0mnrows\u001b[0m\u001b[0;34m=\u001b[0m\u001b[0;36m2\u001b[0m\u001b[0;34m,\u001b[0m\u001b[0;34m\u001b[0m\u001b[0;34m\u001b[0m\u001b[0m\n\u001b[1;32m     13\u001b[0m                     \u001b[0mncols\u001b[0m\u001b[0;34m=\u001b[0m\u001b[0;36m6\u001b[0m\u001b[0;34m,\u001b[0m\u001b[0;34m\u001b[0m\u001b[0;34m\u001b[0m\u001b[0m\n\u001b[0;32m---> 14\u001b[0;31m                     figsize=(22, 8) )\n\u001b[0m",
            "\u001b[0;32m/content/helpers.py\u001b[0m in \u001b[0;36mplot_recontructions\u001b[0;34m(model, X_1, X_2, threshold, title_1, title_2, nrows, ncols, figsize)\u001b[0m\n\u001b[1;32m    203\u001b[0m \u001b[0;34m\u001b[0m\u001b[0m\n\u001b[1;32m    204\u001b[0m     \u001b[0;32mfor\u001b[0m \u001b[0mi\u001b[0m \u001b[0;32min\u001b[0m \u001b[0mrange\u001b[0m\u001b[0;34m(\u001b[0m\u001b[0mncols\u001b[0m\u001b[0;34m)\u001b[0m\u001b[0;34m:\u001b[0m\u001b[0;34m\u001b[0m\u001b[0;34m\u001b[0m\u001b[0m\n\u001b[0;32m--> 205\u001b[0;31m         \u001b[0mplot_prediction\u001b[0m\u001b[0;34m(\u001b[0m\u001b[0mX_2\u001b[0m\u001b[0;34m[\u001b[0m\u001b[0mi\u001b[0m\u001b[0;34m:\u001b[0m\u001b[0mi\u001b[0m\u001b[0;34m+\u001b[0m\u001b[0;36m1\u001b[0m\u001b[0;34m]\u001b[0m\u001b[0;34m,\u001b[0m \u001b[0mmodel\u001b[0m\u001b[0;34m,\u001b[0m \u001b[0mtitle\u001b[0m\u001b[0;34m=\u001b[0m\u001b[0mtitle_2\u001b[0m\u001b[0;34m,\u001b[0m \u001b[0max\u001b[0m\u001b[0;34m=\u001b[0m\u001b[0maxs\u001b[0m\u001b[0;34m[\u001b[0m\u001b[0;36m1\u001b[0m\u001b[0;34m,\u001b[0m \u001b[0mi\u001b[0m\u001b[0;34m]\u001b[0m\u001b[0;34m)\u001b[0m\u001b[0;34m\u001b[0m\u001b[0;34m\u001b[0m\u001b[0m\n\u001b[0m\u001b[1;32m    206\u001b[0m \u001b[0;34m\u001b[0m\u001b[0m\n\u001b[1;32m    207\u001b[0m     \u001b[0mfig\u001b[0m\u001b[0;34m.\u001b[0m\u001b[0mtight_layout\u001b[0m\u001b[0;34m(\u001b[0m\u001b[0;34m)\u001b[0m\u001b[0;34m;\u001b[0m\u001b[0;34m\u001b[0m\u001b[0;34m\u001b[0m\u001b[0m\n",
            "\u001b[0;32m/content/helpers.py\u001b[0m in \u001b[0;36mplot_prediction\u001b[0;34m(data, model, title, ax)\u001b[0m\n\u001b[1;32m    185\u001b[0m \u001b[0;32mdef\u001b[0m \u001b[0mplot_prediction\u001b[0m\u001b[0;34m(\u001b[0m\u001b[0mdata\u001b[0m\u001b[0;34m,\u001b[0m \u001b[0mmodel\u001b[0m\u001b[0;34m,\u001b[0m \u001b[0mtitle\u001b[0m\u001b[0;34m,\u001b[0m \u001b[0max\u001b[0m\u001b[0;34m)\u001b[0m\u001b[0;34m:\u001b[0m\u001b[0;34m\u001b[0m\u001b[0;34m\u001b[0m\u001b[0m\n\u001b[1;32m    186\u001b[0m     \u001b[0;34m''' plot simple sequence reconstruction '''\u001b[0m\u001b[0;34m\u001b[0m\u001b[0;34m\u001b[0m\u001b[0m\n\u001b[0;32m--> 187\u001b[0;31m     \u001b[0mpredictions\u001b[0m \u001b[0;34m=\u001b[0m \u001b[0mmodel\u001b[0m\u001b[0;34m.\u001b[0m\u001b[0mpredict\u001b[0m\u001b[0;34m(\u001b[0m\u001b[0mdata\u001b[0m\u001b[0;34m)\u001b[0m\u001b[0;34m\u001b[0m\u001b[0;34m\u001b[0m\u001b[0m\n\u001b[0m\u001b[1;32m    188\u001b[0m     \u001b[0mpred_losses\u001b[0m \u001b[0;34m=\u001b[0m \u001b[0mmean_absolute_error\u001b[0m\u001b[0;34m(\u001b[0m\u001b[0mpredictions\u001b[0m\u001b[0;34m.\u001b[0m\u001b[0mflatten\u001b[0m\u001b[0;34m(\u001b[0m\u001b[0;34m)\u001b[0m\u001b[0;34m,\u001b[0m \u001b[0mdata\u001b[0m\u001b[0;34m.\u001b[0m\u001b[0mflatten\u001b[0m\u001b[0;34m(\u001b[0m\u001b[0;34m)\u001b[0m\u001b[0;34m)\u001b[0m\u001b[0;34m\u001b[0m\u001b[0;34m\u001b[0m\u001b[0m\n\u001b[1;32m    189\u001b[0m     \u001b[0max\u001b[0m\u001b[0;34m.\u001b[0m\u001b[0mplot\u001b[0m\u001b[0;34m(\u001b[0m\u001b[0mdata\u001b[0m\u001b[0;34m.\u001b[0m\u001b[0mflatten\u001b[0m\u001b[0;34m(\u001b[0m\u001b[0;34m)\u001b[0m\u001b[0;34m,\u001b[0m \u001b[0mlabel\u001b[0m\u001b[0;34m=\u001b[0m\u001b[0;34m'true'\u001b[0m\u001b[0;34m)\u001b[0m\u001b[0;34m\u001b[0m\u001b[0;34m\u001b[0m\u001b[0m\n",
            "\u001b[0;32m/usr/local/lib/python3.7/dist-packages/keras/utils/traceback_utils.py\u001b[0m in \u001b[0;36merror_handler\u001b[0;34m(*args, **kwargs)\u001b[0m\n\u001b[1;32m     65\u001b[0m     \u001b[0;32mexcept\u001b[0m \u001b[0mException\u001b[0m \u001b[0;32mas\u001b[0m \u001b[0me\u001b[0m\u001b[0;34m:\u001b[0m  \u001b[0;31m# pylint: disable=broad-except\u001b[0m\u001b[0;34m\u001b[0m\u001b[0;34m\u001b[0m\u001b[0m\n\u001b[1;32m     66\u001b[0m       \u001b[0mfiltered_tb\u001b[0m \u001b[0;34m=\u001b[0m \u001b[0m_process_traceback_frames\u001b[0m\u001b[0;34m(\u001b[0m\u001b[0me\u001b[0m\u001b[0;34m.\u001b[0m\u001b[0m__traceback__\u001b[0m\u001b[0;34m)\u001b[0m\u001b[0;34m\u001b[0m\u001b[0;34m\u001b[0m\u001b[0m\n\u001b[0;32m---> 67\u001b[0;31m       \u001b[0;32mraise\u001b[0m \u001b[0me\u001b[0m\u001b[0;34m.\u001b[0m\u001b[0mwith_traceback\u001b[0m\u001b[0;34m(\u001b[0m\u001b[0mfiltered_tb\u001b[0m\u001b[0;34m)\u001b[0m \u001b[0;32mfrom\u001b[0m \u001b[0;32mNone\u001b[0m\u001b[0;34m\u001b[0m\u001b[0;34m\u001b[0m\u001b[0m\n\u001b[0m\u001b[1;32m     68\u001b[0m     \u001b[0;32mfinally\u001b[0m\u001b[0;34m:\u001b[0m\u001b[0;34m\u001b[0m\u001b[0;34m\u001b[0m\u001b[0m\n\u001b[1;32m     69\u001b[0m       \u001b[0;32mdel\u001b[0m \u001b[0mfiltered_tb\u001b[0m\u001b[0;34m\u001b[0m\u001b[0;34m\u001b[0m\u001b[0m\n",
            "\u001b[0;32m/usr/local/lib/python3.7/dist-packages/keras/engine/training.py\u001b[0m in \u001b[0;36mpredict\u001b[0;34m(self, x, batch_size, verbose, steps, callbacks, max_queue_size, workers, use_multiprocessing)\u001b[0m\n\u001b[1;32m   1995\u001b[0m             \u001b[0mcallbacks\u001b[0m\u001b[0;34m.\u001b[0m\u001b[0mon_predict_batch_end\u001b[0m\u001b[0;34m(\u001b[0m\u001b[0mend_step\u001b[0m\u001b[0;34m,\u001b[0m \u001b[0;34m{\u001b[0m\u001b[0;34m'outputs'\u001b[0m\u001b[0;34m:\u001b[0m \u001b[0mbatch_outputs\u001b[0m\u001b[0;34m}\u001b[0m\u001b[0;34m)\u001b[0m\u001b[0;34m\u001b[0m\u001b[0;34m\u001b[0m\u001b[0m\n\u001b[1;32m   1996\u001b[0m       \u001b[0;32mif\u001b[0m \u001b[0mbatch_outputs\u001b[0m \u001b[0;32mis\u001b[0m \u001b[0;32mNone\u001b[0m\u001b[0;34m:\u001b[0m\u001b[0;34m\u001b[0m\u001b[0;34m\u001b[0m\u001b[0m\n\u001b[0;32m-> 1997\u001b[0;31m         raise ValueError('Unexpected result of `predict_function` '\n\u001b[0m\u001b[1;32m   1998\u001b[0m                          \u001b[0;34m'(Empty batch_outputs). Please use '\u001b[0m\u001b[0;34m\u001b[0m\u001b[0;34m\u001b[0m\u001b[0m\n\u001b[1;32m   1999\u001b[0m                          \u001b[0;34m'`Model.compile(..., run_eagerly=True)`, or '\u001b[0m\u001b[0;34m\u001b[0m\u001b[0;34m\u001b[0m\u001b[0m\n",
            "\u001b[0;31mValueError\u001b[0m: Unexpected result of `predict_function` (Empty batch_outputs). Please use `Model.compile(..., run_eagerly=True)`, or `tf.config.run_functions_eagerly(True)` for more information of where went wrong, or file a issue/bug to `tf.keras`."
          ]
        },
        {
          "output_type": "display_data",
          "data": {
            "text/plain": [
              "<Figure size 1584x576 with 12 Axes>"
            ],
            "image/png": "[encoded data removed]"
          },
          "metadata": {
            "needs_background": "light"
          }
        }
      ],
      "source": [
        "# corrected classified normal and anomaly sequences   \n",
        "X_test_normal = X_test_3d[(y_test==1)  & (np.array(y_test_pred)==1)]\n",
        "X_test_anomaly = X_test_3d[(y_test==0) & (np.array(y_test_pred)==0)]\n",
        "\n",
        "# print sequences\n",
        "plot_recontructions(model,\n",
        "                    X_test_normal,\n",
        "                    X_test_anomaly,\n",
        "                    threshold,\n",
        "                    'True Positive',\n",
        "                    'True Negative',\n",
        "                    nrows=2,\n",
        "                    ncols=6,\n",
        "                    figsize=(22, 8) )"
      ]
    },
    {
      "cell_type": "markdown",
      "metadata": {
        "id": "udpz5BShc2KL"
      },
      "source": [
        "### **visualization for incorrectly predicted/classified normal and anomaly sequences**"
      ]
    },
    {
      "cell_type": "code",
      "execution_count": 35,
      "metadata": {
        "id": "w3-wv46Wc6tj",
        "colab": {
          "base_uri": "https://localhost:8080/",
          "height": 34
        },
        "outputId": "3d08b68c-2460-4156-fac9-d9826a84075a"
      },
      "outputs": [
        {
          "output_type": "display_data",
          "data": {
            "text/plain": [
              "<Figure size 1584x576 with 0 Axes>"
            ]
          },
          "metadata": {}
        }
      ],
      "source": [
        "# incorrected classified normal and anomaly sequences   \n",
        "X_test_normal_classified_as_anomaly = X_test_3d[(y_test==1)  & (np.array(y_test_pred)==0)]\n",
        "X_test_anomaly_classified_as_normal = X_test_3d[(y_test==0) & (np.array(y_test_pred)==1)]\n",
        "\n",
        "# if the number of incorrectly classified samples in at least one case is less than 6\n",
        "ncols = np.min([len(X_test_normal_classified_as_anomaly), \n",
        "                len(X_test_anomaly_classified_as_normal), \n",
        "                6])\n",
        "\n",
        "# print sequences\n",
        "plot_recontructions(model,\n",
        "                    X_test_normal_classified_as_anomaly,\n",
        "                    X_test_anomaly_classified_as_normal,\n",
        "                    threshold,\n",
        "                    'False Positive',\n",
        "                    'False Negative',\n",
        "                    nrows=2,\n",
        "                    ncols=ncols,\n",
        "                    figsize=(22, 8) )"
      ]
    },
    {
      "cell_type": "markdown",
      "metadata": {
        "id": "gGg0izNadAyr"
      },
      "source": [
        "### **Saving the model for future**"
      ]
    },
    {
      "cell_type": "code",
      "execution_count": 36,
      "metadata": {
        "id": "akh69b8UdGkK"
      },
      "outputs": [],
      "source": [
        "model.save('Stacked_LSTM_AutoEncoder.h5')"
      ]
    },
    {
      "cell_type": "markdown",
      "metadata": {
        "id": "ttLMcAKjglsS"
      },
      "source": [
        "### **Bidirectional LSTM AutoEncoder**"
      ]
    },
    {
      "cell_type": "markdown",
      "metadata": {
        "id": "XMJsRJD9g0QR"
      },
      "source": [
        "## **Building the model** "
      ]
    },
    {
      "cell_type": "code",
      "execution_count": 37,
      "metadata": {
        "id": "TkeOxVC9g17r",
        "colab": {
          "base_uri": "https://localhost:8080/"
        },
        "outputId": "069a30d9-f2fa-4db6-8ae4-f8466356e529"
      },
      "outputs": [
        {
          "output_type": "stream",
          "name": "stdout",
          "text": [
            "Model: \"sequential_2\"\n",
            "_________________________________________________________________\n",
            " Layer (type)                Output Shape              Param #   \n",
            "=================================================================\n",
            " bidirectional (Bidirectiona  (None, 128)              34304     \n",
            " l)                                                              \n",
            "                                                                 \n",
            " repeat_vector_2 (RepeatVect  (None, 3, 128)           0         \n",
            " or)                                                             \n",
            "                                                                 \n",
            " bidirectional_1 (Bidirectio  (None, 3, 128)           99328     \n",
            " nal)                                                            \n",
            "                                                                 \n",
            " time_distributed_2 (TimeDis  (None, 3, 1)             129       \n",
            " tributed)                                                       \n",
            "                                                                 \n",
            "=================================================================\n",
            "Total params: 133,761\n",
            "Trainable params: 133,761\n",
            "Non-trainable params: 0\n",
            "_________________________________________________________________\n"
          ]
        }
      ],
      "source": [
        "# Build model\n",
        "model = Sequential()\n",
        "model.add(Bidirectional(CuDNNLSTM(64), input_shape=(X_train_3d.shape[1:]) ) )\n",
        "model.add(RepeatVector(X_train_3d.shape[1]))\n",
        "model.add(Bidirectional(CuDNNLSTM(64, return_sequences=True) ) )\n",
        "model.add(TimeDistributed(Dense(1)) )\n",
        "model.compile(loss='mae', optimizer='adam')\n",
        "model.summary()"
      ]
    },
    {
      "cell_type": "markdown",
      "metadata": {
        "id": "5Sn6NpiFhAaj"
      },
      "source": [
        " ## **Fit the model**"
      ]
    },
    {
      "cell_type": "code",
      "execution_count": 38,
      "metadata": {
        "id": "tb0IpZDChBYK",
        "colab": {
          "base_uri": "https://localhost:8080/",
          "height": 336
        },
        "outputId": "6bbc282e-32e2-47a7-bed7-66a7465528cb"
      },
      "outputs": [
        {
          "output_type": "display_data",
          "data": {
            "text/plain": [
              "<Figure size 720x360 with 1 Axes>"
            ],
            "image/png": "[encoded data removed]"
          },
          "metadata": {
            "needs_background": "light"
          }
        }
      ],
      "source": [
        "fit_model(model, X_train_3d, EPOCHS, BATCH_SIZE, verbose=0, callbacks=[EARLY_STOPPING]);"
      ]
    },
    {
      "cell_type": "markdown",
      "metadata": {
        "id": "qVDZA1jUhblp"
      },
      "source": [
        "### **Makeing predictions and calculating reconstruction error for each dataset**"
      ]
    },
    {
      "cell_type": "code",
      "execution_count": 39,
      "metadata": {
        "id": "tckbMwJ8hzCP",
        "colab": {
          "base_uri": "https://localhost:8080/",
          "height": 336
        },
        "outputId": "e3211e2f-d0b7-4750-b146-24c5832e9a25"
      },
      "outputs": [
        {
          "output_type": "stream",
          "name": "stderr",
          "text": [
            "/usr/local/lib/python3.7/dist-packages/seaborn/distributions.py:2619: FutureWarning: `distplot` is a deprecated function and will be removed in a future version. Please adapt your code to use either `displot` (a figure-level function with similar flexibility) or `histplot` (an axes-level function for histograms).\n",
            "  warnings.warn(msg, FutureWarning)\n"
          ]
        },
        {
          "output_type": "display_data",
          "data": {
            "text/plain": [
              "<Figure size 432x288 with 1 Axes>"
            ],
            "image/png": "[encoded data removed]"
          },
          "metadata": {
            "needs_background": "light"
          }
        }
      ],
      "source": [
        "# make predictions (reconstructions) for each dataset\n",
        "X_train_pred, X_val_pred, X_test_pred = make_predictions(model, X_train_3d, X_val_3d, X_test_3d)\n",
        "\n",
        "# calculate reconstructions losses for each dataset\n",
        "train_loss, val_loss, test_loss = calculate_reconstrucion_losses(X_train_3d, X_train_pred, \n",
        "                                                                 X_val_3d, X_val_pred,\n",
        "                                                                 X_test_3d, X_test_pred)\n",
        "\n",
        "# show train reconstrucion losses distribution\n",
        "plt.title('Train reconstrucion losses distribution')\n",
        "sns.distplot(train_loss, bins=50, kde=True);"
      ]
    },
    {
      "cell_type": "markdown",
      "metadata": {
        "id": "AsSc5JLriBd5"
      },
      "source": [
        "###**Selecting threshold for maximum accuracy** "
      ]
    },
    {
      "cell_type": "code",
      "execution_count": 40,
      "metadata": {
        "id": "Nt6PDxQuiE-7",
        "colab": {
          "base_uri": "https://localhost:8080/"
        },
        "outputId": "d0288775-d0d3-4e02-d6c3-92bd562bafb3"
      },
      "outputs": [
        {
          "output_type": "stream",
          "name": "stdout",
          "text": [
            "Perentile:90 Threshold: 0.0023 Validation Accuracy: 0.8968\n",
            "Perentile:91 Threshold: 0.0025 Validation Accuracy: 0.907\n",
            "Perentile:92 Threshold: 0.0028 Validation Accuracy: 0.9172\n",
            "Perentile:93 Threshold: 0.0033 Validation Accuracy: 0.9273\n",
            "Perentile:94 Threshold: 0.0042 Validation Accuracy: 0.9375\n",
            "Perentile:95 Threshold: 0.0055 Validation Accuracy: 0.9478\n",
            "Perentile:96 Threshold: 0.0075 Validation Accuracy: 0.9583\n",
            "Perentile:97 Threshold: 0.0109 Validation Accuracy: 0.9686\n",
            "Perentile:98 Threshold: 0.0158 Validation Accuracy: 0.979\n",
            "Perentile:99 Threshold: 0.0283 Validation Accuracy: 0.9894\n",
            "-----------------------------------------------------------------\n",
            "Best validation accuracy: 0.9894 for threshold: 0.0283\n"
          ]
        }
      ],
      "source": [
        "# define percentile range for tesing threshold\n",
        "percentiles = range(90,100)\n",
        "\n",
        "threshold = select_threshold(train_loss, y_val, val_loss, percentiles)"
      ]
    },
    {
      "cell_type": "markdown",
      "metadata": {
        "id": "HqQwXEVvjQk-"
      },
      "source": [
        "**Calculating prediction metrics and adding them to a placeholder**:"
      ]
    },
    {
      "cell_type": "code",
      "execution_count": 41,
      "metadata": {
        "id": "kvtM5-WGjXfJ",
        "colab": {
          "base_uri": "https://localhost:8080/"
        },
        "outputId": "0c2849f5-6c1b-47e2-faa9-ac68142d7443"
      },
      "outputs": [
        {
          "output_type": "stream",
          "name": "stdout",
          "text": [
            "Test accuracy score: 0.953\n",
            "Test precision score: 0.953\n",
            "Test recall score: 1.0\n",
            "Test f1 score: 0.9759\n"
          ]
        }
      ],
      "source": [
        "# predict test set classes based on test reconctrucion losses and selected threshold\n",
        "y_test_pred = [int(x < threshold) for x in test_loss]\n",
        "\n",
        "# calculate and print predicion metrics\n",
        "test_accuracy, test_precision, test_recall, test_f1_score = calculate_prediction_metrics(y_test, y_test_pred, verbose=1)\n",
        "\n",
        "# add prediction metrics to place holder\n",
        "results.add_components('Bidirectional LSTM AutoEncoder', X_test_pred, y_test_pred, test_accuracy, test_precision, test_recall, test_f1_score)"
      ]
    },
    {
      "cell_type": "markdown",
      "metadata": {
        "id": "TOLuuyDgjnGg"
      },
      "source": [
        "### **visualization for correctly predicted class**"
      ]
    },
    {
      "cell_type": "code",
      "execution_count": 42,
      "metadata": {
        "id": "Rj2wQ-wDjwMq",
        "colab": {
          "base_uri": "https://localhost:8080/",
          "height": 927
        },
        "outputId": "7c98351e-d098-4172-c172-0984b6636917"
      },
      "outputs": [
        {
          "output_type": "error",
          "ename": "ValueError",
          "evalue": "ignored",
          "traceback": [
            "\u001b[0;31m---------------------------------------------------------------------------\u001b[0m",
            "\u001b[0;31mValueError\u001b[0m                                Traceback (most recent call last)",
            "\u001b[0;32m<ipython-input-42-2ff7e3984be7>\u001b[0m in \u001b[0;36m<module>\u001b[0;34m()\u001b[0m\n\u001b[1;32m     12\u001b[0m                     \u001b[0mnrows\u001b[0m\u001b[0;34m=\u001b[0m\u001b[0;36m2\u001b[0m\u001b[0;34m,\u001b[0m\u001b[0;34m\u001b[0m\u001b[0;34m\u001b[0m\u001b[0m\n\u001b[1;32m     13\u001b[0m                     \u001b[0mncols\u001b[0m\u001b[0;34m=\u001b[0m\u001b[0;36m6\u001b[0m\u001b[0;34m,\u001b[0m\u001b[0;34m\u001b[0m\u001b[0;34m\u001b[0m\u001b[0m\n\u001b[0;32m---> 14\u001b[0;31m                     figsize=(22, 8) )\n\u001b[0m",
            "\u001b[0;32m/content/helpers.py\u001b[0m in \u001b[0;36mplot_recontructions\u001b[0;34m(model, X_1, X_2, threshold, title_1, title_2, nrows, ncols, figsize)\u001b[0m\n\u001b[1;32m    203\u001b[0m \u001b[0;34m\u001b[0m\u001b[0m\n\u001b[1;32m    204\u001b[0m     \u001b[0;32mfor\u001b[0m \u001b[0mi\u001b[0m \u001b[0;32min\u001b[0m \u001b[0mrange\u001b[0m\u001b[0;34m(\u001b[0m\u001b[0mncols\u001b[0m\u001b[0;34m)\u001b[0m\u001b[0;34m:\u001b[0m\u001b[0;34m\u001b[0m\u001b[0;34m\u001b[0m\u001b[0m\n\u001b[0;32m--> 205\u001b[0;31m         \u001b[0mplot_prediction\u001b[0m\u001b[0;34m(\u001b[0m\u001b[0mX_2\u001b[0m\u001b[0;34m[\u001b[0m\u001b[0mi\u001b[0m\u001b[0;34m:\u001b[0m\u001b[0mi\u001b[0m\u001b[0;34m+\u001b[0m\u001b[0;36m1\u001b[0m\u001b[0;34m]\u001b[0m\u001b[0;34m,\u001b[0m \u001b[0mmodel\u001b[0m\u001b[0;34m,\u001b[0m \u001b[0mtitle\u001b[0m\u001b[0;34m=\u001b[0m\u001b[0mtitle_2\u001b[0m\u001b[0;34m,\u001b[0m \u001b[0max\u001b[0m\u001b[0;34m=\u001b[0m\u001b[0maxs\u001b[0m\u001b[0;34m[\u001b[0m\u001b[0;36m1\u001b[0m\u001b[0;34m,\u001b[0m \u001b[0mi\u001b[0m\u001b[0;34m]\u001b[0m\u001b[0;34m)\u001b[0m\u001b[0;34m\u001b[0m\u001b[0;34m\u001b[0m\u001b[0m\n\u001b[0m\u001b[1;32m    206\u001b[0m \u001b[0;34m\u001b[0m\u001b[0m\n\u001b[1;32m    207\u001b[0m     \u001b[0mfig\u001b[0m\u001b[0;34m.\u001b[0m\u001b[0mtight_layout\u001b[0m\u001b[0;34m(\u001b[0m\u001b[0;34m)\u001b[0m\u001b[0;34m;\u001b[0m\u001b[0;34m\u001b[0m\u001b[0;34m\u001b[0m\u001b[0m\n",
            "\u001b[0;32m/content/helpers.py\u001b[0m in \u001b[0;36mplot_prediction\u001b[0;34m(data, model, title, ax)\u001b[0m\n\u001b[1;32m    185\u001b[0m \u001b[0;32mdef\u001b[0m \u001b[0mplot_prediction\u001b[0m\u001b[0;34m(\u001b[0m\u001b[0mdata\u001b[0m\u001b[0;34m,\u001b[0m \u001b[0mmodel\u001b[0m\u001b[0;34m,\u001b[0m \u001b[0mtitle\u001b[0m\u001b[0;34m,\u001b[0m \u001b[0max\u001b[0m\u001b[0;34m)\u001b[0m\u001b[0;34m:\u001b[0m\u001b[0;34m\u001b[0m\u001b[0;34m\u001b[0m\u001b[0m\n\u001b[1;32m    186\u001b[0m     \u001b[0;34m''' plot simple sequence reconstruction '''\u001b[0m\u001b[0;34m\u001b[0m\u001b[0;34m\u001b[0m\u001b[0m\n\u001b[0;32m--> 187\u001b[0;31m     \u001b[0mpredictions\u001b[0m \u001b[0;34m=\u001b[0m \u001b[0mmodel\u001b[0m\u001b[0;34m.\u001b[0m\u001b[0mpredict\u001b[0m\u001b[0;34m(\u001b[0m\u001b[0mdata\u001b[0m\u001b[0;34m)\u001b[0m\u001b[0;34m\u001b[0m\u001b[0;34m\u001b[0m\u001b[0m\n\u001b[0m\u001b[1;32m    188\u001b[0m     \u001b[0mpred_losses\u001b[0m \u001b[0;34m=\u001b[0m \u001b[0mmean_absolute_error\u001b[0m\u001b[0;34m(\u001b[0m\u001b[0mpredictions\u001b[0m\u001b[0;34m.\u001b[0m\u001b[0mflatten\u001b[0m\u001b[0;34m(\u001b[0m\u001b[0;34m)\u001b[0m\u001b[0;34m,\u001b[0m \u001b[0mdata\u001b[0m\u001b[0;34m.\u001b[0m\u001b[0mflatten\u001b[0m\u001b[0;34m(\u001b[0m\u001b[0;34m)\u001b[0m\u001b[0;34m)\u001b[0m\u001b[0;34m\u001b[0m\u001b[0;34m\u001b[0m\u001b[0m\n\u001b[1;32m    189\u001b[0m     \u001b[0max\u001b[0m\u001b[0;34m.\u001b[0m\u001b[0mplot\u001b[0m\u001b[0;34m(\u001b[0m\u001b[0mdata\u001b[0m\u001b[0;34m.\u001b[0m\u001b[0mflatten\u001b[0m\u001b[0;34m(\u001b[0m\u001b[0;34m)\u001b[0m\u001b[0;34m,\u001b[0m \u001b[0mlabel\u001b[0m\u001b[0;34m=\u001b[0m\u001b[0;34m'true'\u001b[0m\u001b[0;34m)\u001b[0m\u001b[0;34m\u001b[0m\u001b[0;34m\u001b[0m\u001b[0m\n",
            "\u001b[0;32m/usr/local/lib/python3.7/dist-packages/keras/utils/traceback_utils.py\u001b[0m in \u001b[0;36merror_handler\u001b[0;34m(*args, **kwargs)\u001b[0m\n\u001b[1;32m     65\u001b[0m     \u001b[0;32mexcept\u001b[0m \u001b[0mException\u001b[0m \u001b[0;32mas\u001b[0m \u001b[0me\u001b[0m\u001b[0;34m:\u001b[0m  \u001b[0;31m# pylint: disable=broad-except\u001b[0m\u001b[0;34m\u001b[0m\u001b[0;34m\u001b[0m\u001b[0m\n\u001b[1;32m     66\u001b[0m       \u001b[0mfiltered_tb\u001b[0m \u001b[0;34m=\u001b[0m \u001b[0m_process_traceback_frames\u001b[0m\u001b[0;34m(\u001b[0m\u001b[0me\u001b[0m\u001b[0;34m.\u001b[0m\u001b[0m__traceback__\u001b[0m\u001b[0;34m)\u001b[0m\u001b[0;34m\u001b[0m\u001b[0;34m\u001b[0m\u001b[0m\n\u001b[0;32m---> 67\u001b[0;31m       \u001b[0;32mraise\u001b[0m \u001b[0me\u001b[0m\u001b[0;34m.\u001b[0m\u001b[0mwith_traceback\u001b[0m\u001b[0;34m(\u001b[0m\u001b[0mfiltered_tb\u001b[0m\u001b[0;34m)\u001b[0m \u001b[0;32mfrom\u001b[0m \u001b[0;32mNone\u001b[0m\u001b[0;34m\u001b[0m\u001b[0;34m\u001b[0m\u001b[0m\n\u001b[0m\u001b[1;32m     68\u001b[0m     \u001b[0;32mfinally\u001b[0m\u001b[0;34m:\u001b[0m\u001b[0;34m\u001b[0m\u001b[0;34m\u001b[0m\u001b[0m\n\u001b[1;32m     69\u001b[0m       \u001b[0;32mdel\u001b[0m \u001b[0mfiltered_tb\u001b[0m\u001b[0;34m\u001b[0m\u001b[0;34m\u001b[0m\u001b[0m\n",
            "\u001b[0;32m/usr/local/lib/python3.7/dist-packages/keras/engine/training.py\u001b[0m in \u001b[0;36mpredict\u001b[0;34m(self, x, batch_size, verbose, steps, callbacks, max_queue_size, workers, use_multiprocessing)\u001b[0m\n\u001b[1;32m   1995\u001b[0m             \u001b[0mcallbacks\u001b[0m\u001b[0;34m.\u001b[0m\u001b[0mon_predict_batch_end\u001b[0m\u001b[0;34m(\u001b[0m\u001b[0mend_step\u001b[0m\u001b[0;34m,\u001b[0m \u001b[0;34m{\u001b[0m\u001b[0;34m'outputs'\u001b[0m\u001b[0;34m:\u001b[0m \u001b[0mbatch_outputs\u001b[0m\u001b[0;34m}\u001b[0m\u001b[0;34m)\u001b[0m\u001b[0;34m\u001b[0m\u001b[0;34m\u001b[0m\u001b[0m\n\u001b[1;32m   1996\u001b[0m       \u001b[0;32mif\u001b[0m \u001b[0mbatch_outputs\u001b[0m \u001b[0;32mis\u001b[0m \u001b[0;32mNone\u001b[0m\u001b[0;34m:\u001b[0m\u001b[0;34m\u001b[0m\u001b[0;34m\u001b[0m\u001b[0m\n\u001b[0;32m-> 1997\u001b[0;31m         raise ValueError('Unexpected result of `predict_function` '\n\u001b[0m\u001b[1;32m   1998\u001b[0m                          \u001b[0;34m'(Empty batch_outputs). Please use '\u001b[0m\u001b[0;34m\u001b[0m\u001b[0;34m\u001b[0m\u001b[0m\n\u001b[1;32m   1999\u001b[0m                          \u001b[0;34m'`Model.compile(..., run_eagerly=True)`, or '\u001b[0m\u001b[0;34m\u001b[0m\u001b[0;34m\u001b[0m\u001b[0m\n",
            "\u001b[0;31mValueError\u001b[0m: Unexpected result of `predict_function` (Empty batch_outputs). Please use `Model.compile(..., run_eagerly=True)`, or `tf.config.run_functions_eagerly(True)` for more information of where went wrong, or file a issue/bug to `tf.keras`."
          ]
        },
        {
          "output_type": "display_data",
          "data": {
            "text/plain": [
              "<Figure size 1584x576 with 12 Axes>"
            ],
            "image/png": "[encoded data removed]"
          },
          "metadata": {
            "needs_background": "light"
          }
        }
      ],
      "source": [
        "# corrected classified normal and anomaly sequences   \n",
        "X_test_normal = X_test_3d[(y_test==1)  & (np.array(y_test_pred)==1)]\n",
        "X_test_anomaly = X_test_3d[(y_test==0) & (np.array(y_test_pred)==0)]\n",
        "\n",
        "# print sequences\n",
        "plot_recontructions(model,\n",
        "                    X_test_normal,\n",
        "                    X_test_anomaly,\n",
        "                    threshold,\n",
        "                    'True Positive',\n",
        "                    'True Negative',\n",
        "                    nrows=2,\n",
        "                    ncols=6,\n",
        "                    figsize=(22, 8) )"
      ]
    },
    {
      "cell_type": "markdown",
      "metadata": {
        "id": "O4ZFySxkkIiJ"
      },
      "source": [
        "Point : Bidirectional LSTM AutoEncoder isn't good solution for this problem. the model learned that in normal heartbeats occur a sigificant drops and extra peaks at the begininng and at the end of sequence."
      ]
    },
    {
      "cell_type": "markdown",
      "metadata": {
        "id": "fR2emzwfkaX5"
      },
      "source": [
        "### **visualization for incorrectly predicted/classified normal and anomaly sequences**"
      ]
    },
    {
      "cell_type": "code",
      "execution_count": null,
      "metadata": {
        "id": "T_ch3iTbkTbS"
      },
      "outputs": [],
      "source": [
        "# incorrectly classified normal and anomaly sequences   \n",
        "X_test_normal_classified_as_anomaly = X_test_3d[(y_test==1)  & (np.array(y_test_pred)==0)]\n",
        "X_test_anomaly_classified_as_normal = X_test_3d[(y_test==0) & (np.array(y_test_pred)==1)]\n",
        "\n",
        "# if the number of incorrectly classified samples in at least one case is less than 6\n",
        "ncols = np.min([len(X_test_normal_classified_as_anomaly), \n",
        "                len(X_test_anomaly_classified_as_normal), \n",
        "                6])\n",
        "\n",
        "# print sequences\n",
        "plot_recontructions(model,\n",
        "                    X_test_normal_classified_as_anomaly,\n",
        "                    X_test_anomaly_classified_as_normal,\n",
        "                    threshold,\n",
        "                    'False Positive',\n",
        "                    'False Negative',\n",
        "                    nrows=2,\n",
        "                    ncols=ncols,\n",
        "                    figsize=(22, 8) )"
      ]
    },
    {
      "cell_type": "markdown",
      "metadata": {
        "id": "mCJnl4C9k--w"
      },
      "source": [
        "Point : The Bidirectional LSTM AutoEncoder made mistake on relatively easy sequences"
      ]
    },
    {
      "cell_type": "markdown",
      "metadata": {
        "id": "EX1klHA5lGA5"
      },
      "source": [
        "### **Saving the model for future**"
      ]
    },
    {
      "cell_type": "code",
      "execution_count": null,
      "metadata": {
        "id": "E2V73ScQlHsZ"
      },
      "outputs": [],
      "source": [
        "model.save('Bidirectional_LSTM_AutoEncoder.h5')"
      ]
    },
    {
      "cell_type": "markdown",
      "metadata": {
        "id": "K_bdOQJ0ljrv"
      },
      "source": [
        "### **CNN LSTM AutoEncoder**"
      ]
    },
    {
      "cell_type": "markdown",
      "metadata": {
        "id": "jo1fW0HqlvPk"
      },
      "source": [
        "## **Building the model** "
      ]
    },
    {
      "cell_type": "code",
      "execution_count": null,
      "metadata": {
        "id": "QhAyXyJalx_x"
      },
      "outputs": [],
      "source": [
        "# Build model\n",
        "model = Sequential()\n",
        "model.add(Conv1D(filters=64, kernel_size=3, activation='relu', input_shape=(X_train_3d.shape[1:]) ) ) \n",
        "model.add(CuDNNLSTM(64) )\n",
        "model.add(RepeatVector(X_train_3d.shape[1]) )\n",
        "model.add(CuDNNLSTM(64, return_sequences=True) )\n",
        "model.add(TimeDistributed(Dense(1) ) )\n",
        "model.compile(loss='mae', optimizer='adam')\n",
        "model.summary()"
      ]
    },
    {
      "cell_type": "markdown",
      "metadata": {
        "id": "xNmsqgy7l3v2"
      },
      "source": [
        " ## **Fit the model**"
      ]
    },
    {
      "cell_type": "code",
      "execution_count": null,
      "metadata": {
        "id": "MBMNvKHul6Q-"
      },
      "outputs": [],
      "source": [
        "fit_model(model, X_train_3d, EPOCHS, BATCH_SIZE, verbose=0, callbacks=[EARLY_STOPPING]);"
      ]
    },
    {
      "cell_type": "markdown",
      "metadata": {
        "id": "dNyGwwpHl-ch"
      },
      "source": [
        "### **Makeing predictions and calculating reconstruction error for each dataset**"
      ]
    },
    {
      "cell_type": "code",
      "execution_count": null,
      "metadata": {
        "id": "WKgnQNTjmLUX"
      },
      "outputs": [],
      "source": [
        "# make predictions (reconstructions) for each dataset\n",
        "X_train_pred, X_val_pred, X_test_pred = make_predictions(model, X_train_3d, X_val_3d, X_test_3d)\n",
        "\n",
        "# calculate reconstructions losses for each dataset\n",
        "train_loss, val_loss, test_loss = calculate_reconstrucion_losses(X_train_3d, X_train_pred, \n",
        "                                                                 X_val_3d, X_val_pred,\n",
        "                                                                 X_test_3d, X_test_pred)\n",
        "\n",
        "# show train reconstrucion losses distribution\n",
        "plt.title('Train reconstrucion losses distribution')\n",
        "sns.histplot(train_loss, bins=50, kde=True, stat=\"density\", linewidth=0);"
      ]
    },
    {
      "cell_type": "markdown",
      "metadata": {
        "id": "fm76PPZqmucg"
      },
      "source": [
        "###**Selecting threshold for maximum accuracy** "
      ]
    },
    {
      "cell_type": "code",
      "execution_count": null,
      "metadata": {
        "id": "-Qx42nPemxyp"
      },
      "outputs": [],
      "source": [
        "# define percentile range for tesing threshold\n",
        "percentiles = range(90,100)\n",
        "\n",
        "threshold = select_threshold(train_loss, y_val, val_loss, percentiles)"
      ]
    },
    {
      "cell_type": "markdown",
      "metadata": {
        "id": "jCB40_Oqm5AJ"
      },
      "source": [
        "**Calculating prediction metrics and adding them to a placeholder**"
      ]
    },
    {
      "cell_type": "code",
      "execution_count": null,
      "metadata": {
        "id": "IPEPvMa2n5FQ"
      },
      "outputs": [],
      "source": [
        "# predict test set classes based on test reconctrucion losses and selected threshold\n",
        "y_test_pred = [int(x < threshold) for x in test_loss]\n",
        "\n",
        "# calculate and print predicion metrics\n",
        "test_accuracy, test_precision, test_recall, test_f1_score = calculate_prediction_metrics(y_test, y_test_pred, verbose=1)\n",
        "\n",
        "# add prediction metrics to place holder\n",
        "results.add_components('CNN LSTM AutoEncoder', X_test_pred, y_test_pred, test_accuracy, test_precision, test_recall, test_f1_score)"
      ]
    },
    {
      "cell_type": "markdown",
      "metadata": {
        "id": "qHigHOXKoM9_"
      },
      "source": [
        "### **visualization for correctly predicted class**"
      ]
    },
    {
      "cell_type": "code",
      "execution_count": null,
      "metadata": {
        "id": "-Q2S2DH-oPh5"
      },
      "outputs": [],
      "source": [
        "# corrected classified normal and anomaly sequences   \n",
        "X_test_normal = X_test_3d[(y_test==1)  & (np.array(y_test_pred)==1)]\n",
        "X_test_anomaly = X_test_3d[(y_test==0) & (np.array(y_test_pred)==0)]\n",
        "\n",
        "# print sequences\n",
        "plot_recontructions(model,\n",
        "                    X_test_normal,\n",
        "                    X_test_anomaly,\n",
        "                    threshold,\n",
        "                    'True Positive',\n",
        "                    'True Negative',\n",
        "                    nrows=2,\n",
        "                    ncols=6,\n",
        "                    figsize=(22, 8) )"
      ]
    },
    {
      "cell_type": "markdown",
      "metadata": {
        "id": "hh3jH5YfpeAg"
      },
      "source": [
        "Point : As you can see, CNN LSTM AutoEncoder learned the same pattern as LSTM AutoEncoders - an additional peak at the end of the sequence, and also remembered a significant decrease at the beginning of the sequence."
      ]
    },
    {
      "cell_type": "markdown",
      "metadata": {
        "id": "ygs4bhenpPM5"
      },
      "source": [
        "### **visualization for incorrectly predicted/classified normal and anomaly sequences**"
      ]
    },
    {
      "cell_type": "code",
      "execution_count": null,
      "metadata": {
        "id": "bUVqHHg0pnep"
      },
      "outputs": [],
      "source": [
        "# incorrected classified normal and anomaly sequences   \n",
        "X_test_normal_classified_as_anomaly = X_test_3d[(y_test==1)  & (np.array(y_test_pred)==0)]\n",
        "X_test_anomaly_classified_as_normal = X_test_3d[(y_test==0) & (np.array(y_test_pred)==1)]\n",
        "\n",
        "# if the number of incorrectly classified samples in at least one case is less than 6\n",
        "ncols = np.min([len(X_test_normal_classified_as_anomaly), \n",
        "                len(X_test_anomaly_classified_as_normal), \n",
        "                6])\n",
        "\n",
        "# print sequences\n",
        "plot_recontructions(model,\n",
        "                    X_test_normal_classified_as_anomaly,\n",
        "                    X_test_anomaly_classified_as_normal,\n",
        "                    threshold,\n",
        "                    'False Positive',\n",
        "                    'False Negative',\n",
        "                    nrows=2,\n",
        "                    ncols=ncols,\n",
        "                    figsize=(22, 8) )"
      ]
    },
    {
      "cell_type": "markdown",
      "metadata": {
        "id": "uvGMz5Elp2ho"
      },
      "source": [
        "Point : The CNN LSTM AutoEncoder misclassified the same sequences as Stacked LSTM AutoEncoders"
      ]
    },
    {
      "cell_type": "markdown",
      "metadata": {
        "id": "ERo0QBnKqBlv"
      },
      "source": [
        "### **Saving the model for future**"
      ]
    },
    {
      "cell_type": "code",
      "execution_count": null,
      "metadata": {
        "id": "CRRNzhQFqEzH"
      },
      "outputs": [],
      "source": [
        "model.save('CNN_LSTM_AutoEncoder.h5')"
      ]
    },
    {
      "cell_type": "markdown",
      "metadata": {
        "id": "D5akJBzXqfvi"
      },
      "source": [
        "### **ANN with single layer AutoEncoder**"
      ]
    },
    {
      "cell_type": "markdown",
      "metadata": {
        "id": "L2ffMrS5qomC"
      },
      "source": [
        "## **Building the model** "
      ]
    },
    {
      "cell_type": "code",
      "execution_count": null,
      "metadata": {
        "id": "qSWCHH4cqtMk"
      },
      "outputs": [],
      "source": [
        "model = Sequential()\n",
        "model.add(Dense(units=64, input_shape=(X_train.shape[1:]), activation='relu') )\n",
        "model.add(Dense(units=32) )\n",
        "model.add(Dense(units=64, activation='relu') )\n",
        "model.add(Dense(units=X_train.shape[1]) )\n",
        "model.compile(loss='mae', optimizer='adam')\n",
        "model.summary()"
      ]
    },
    {
      "cell_type": "markdown",
      "metadata": {
        "id": "u_12_yOuq9U4"
      },
      "source": [
        "## **Fit the model**"
      ]
    },
    {
      "cell_type": "code",
      "execution_count": null,
      "metadata": {
        "id": "LvOV9J63rAVY"
      },
      "outputs": [],
      "source": [
        "fit_model(model, X_train, EPOCHS, BATCH_SIZE, verbose=0, callbacks=[EARLY_STOPPING]);"
      ]
    },
    {
      "cell_type": "markdown",
      "metadata": {
        "id": "GNtMrL27tY8X"
      },
      "source": [
        "### **Makeing predictions and calculating reconstruction error for each dataset**"
      ]
    },
    {
      "cell_type": "code",
      "execution_count": null,
      "metadata": {
        "id": "Y-MeC7UHtb13"
      },
      "outputs": [],
      "source": [
        "# make predictions (reconstructions) for each dataset\n",
        "X_train_pred, X_val_pred, X_test_pred = make_predictions(model, X_train, X_val, X_test)\n",
        "\n",
        "# calculate reconstructions losses for each dataset\n",
        "train_loss, val_loss, test_loss = calculate_reconstrucion_losses(X_train, X_train_pred, \n",
        "                                                                 X_val, X_val_pred,\n",
        "                                                                 X_test, X_test_pred)\n",
        "\n",
        "# show train reconstrucion losses distribution\n",
        "plt.title('Train reconstrucion losses distribution')\n",
        "sns.histplot(train_loss, bins=50, kde=True, stat=\"density\", linewidth=0);"
      ]
    },
    {
      "cell_type": "markdown",
      "metadata": {
        "id": "axRkXLj_uAJm"
      },
      "source": [
        "###**Selecting threshold for maximum accuracy** "
      ]
    },
    {
      "cell_type": "code",
      "execution_count": null,
      "metadata": {
        "id": "rxmnpyvFuCMt"
      },
      "outputs": [],
      "source": [
        "# define percentile range for tesing threshold\n",
        "percentiles = range(90,100)\n",
        "\n",
        "threshold = select_threshold(train_loss, y_val, val_loss, percentiles)"
      ]
    },
    {
      "cell_type": "markdown",
      "metadata": {
        "id": "x-VLKjKEuSHP"
      },
      "source": [
        "**Calculating prediction metrics and adding them to a placeholder**"
      ]
    },
    {
      "cell_type": "code",
      "execution_count": null,
      "metadata": {
        "id": "a24R1Cf0uY3A"
      },
      "outputs": [],
      "source": [
        "# predict test set classes based on test reconctrucion losses and selected threshold\n",
        "y_test_pred = [int(x < threshold) for x in test_loss]\n",
        "\n",
        "# calculate and print predicion metrics\n",
        "test_accuracy, test_precision, test_recall, test_f1_score = calculate_prediction_metrics(y_test, y_test_pred, verbose=1)\n",
        "\n",
        "# add prediction metrics to place holder\n",
        "results.add_components('ANN AutoEncoder', X_test_pred, y_test_pred, test_accuracy, test_precision, test_recall, test_f1_score)"
      ]
    },
    {
      "cell_type": "markdown",
      "metadata": {
        "id": "d3Onm8vCu0Hm"
      },
      "source": [
        "### **visualization for correctly predicted class**"
      ]
    },
    {
      "cell_type": "code",
      "execution_count": null,
      "metadata": {
        "id": "rnwfnJOeu4ar"
      },
      "outputs": [],
      "source": [
        "# corrected classified normal and anomaly sequences   \n",
        "X_test_normal = X_test[(y_test==1)  & (np.array(y_test_pred)==1)]\n",
        "X_test_anomaly = X_test[(y_test==0) & (np.array(y_test_pred)==0)]\n",
        "\n",
        "# print sequences\n",
        "plot_recontructions(model,\n",
        "                    X_test_normal,\n",
        "                    X_test_anomaly,\n",
        "                    threshold,\n",
        "                    'True Positive',\n",
        "                    'True Negative',\n",
        "                    nrows=2,\n",
        "                    ncols=6,\n",
        "                    figsize=(22, 8) )"
      ]
    },
    {
      "cell_type": "markdown",
      "metadata": {
        "id": "i5IorlOrvZOy"
      },
      "source": [
        "Point : As you can see ANN AutoEncoder tries to remember whole sequences, doesn't try to find any paterns to detect anomalies"
      ]
    },
    {
      "cell_type": "markdown",
      "metadata": {
        "id": "GlnE_hDLvTab"
      },
      "source": [
        "### **visualization for incorrectly predicted/classified normal and anomaly sequences**"
      ]
    },
    {
      "cell_type": "code",
      "execution_count": null,
      "metadata": {
        "id": "MnDmaqb9vX-H"
      },
      "outputs": [],
      "source": [
        "# incorrected classified normal and anomaly sequences   \n",
        "X_test_normal_classified_as_anomaly = X_test[(y_test==1)  & (np.array(y_test_pred)==0)]\n",
        "X_test_anomaly_classified_as_normal = X_test[(y_test==0) & (np.array(y_test_pred)==1)]\n",
        "\n",
        "# if the number of incorrectly classified samples in at least one case is less than 6\n",
        "ncols = np.min([len(X_test_normal_classified_as_anomaly), \n",
        "                len(X_test_anomaly_classified_as_normal), \n",
        "                6])\n",
        "\n",
        "# print sequences\n",
        "plot_recontructions(model,\n",
        "                    X_test_normal_classified_as_anomaly,\n",
        "                    X_test_anomaly_classified_as_normal,\n",
        "                    threshold,\n",
        "                    'False Positive',\n",
        "                    'False Negative',\n",
        "                    nrows=2,\n",
        "                    ncols=ncols,\n",
        "                    figsize=(22, 8) )"
      ]
    },
    {
      "cell_type": "markdown",
      "metadata": {
        "id": "Zf1FjlDvvmi6"
      },
      "source": [
        "Poinit : The second and third bottom samples look like a normal heartbeat, mayby were incorrect labeled?"
      ]
    },
    {
      "cell_type": "markdown",
      "metadata": {
        "id": "dVNJV40qv07Y"
      },
      "source": [
        "### **Saving the model for future**"
      ]
    },
    {
      "cell_type": "code",
      "execution_count": null,
      "metadata": {
        "id": "D6Y07Z9Wv9gQ"
      },
      "outputs": [],
      "source": [
        "model.save('ANN_AutoEncoder.h5')"
      ]
    },
    {
      "cell_type": "markdown",
      "metadata": {
        "id": "_KHt37J5w3hz"
      },
      "source": [
        "### **Stacked ANN AutoEncoder with two dense layers**"
      ]
    },
    {
      "cell_type": "markdown",
      "metadata": {
        "id": "UW_UgNVfxAnW"
      },
      "source": [
        "## **Building the model** "
      ]
    },
    {
      "cell_type": "code",
      "execution_count": null,
      "metadata": {
        "id": "Cq-6cUhAxNy8"
      },
      "outputs": [],
      "source": [
        "model = Sequential()\n",
        "model.add(Dense(units=64, input_shape=(X_train.shape[1:]), activation='relu') )\n",
        "model.add(Dense(units=64, activation='relu') )\n",
        "model.add(Dense(units=32) )\n",
        "model.add(Dense(units=64, activation='relu') )\n",
        "model.add(Dense(units=64, activation='relu') )\n",
        "model.add(Dense(units=X_train.shape[1]) )\n",
        "model.compile(loss='mae', optimizer='adam')\n",
        "model.summary()"
      ]
    },
    {
      "cell_type": "markdown",
      "metadata": {
        "id": "xL8Q0HICxVLu"
      },
      "source": [
        "## **Fit the model**"
      ]
    },
    {
      "cell_type": "code",
      "execution_count": null,
      "metadata": {
        "id": "nGXVMj6txaUS"
      },
      "outputs": [],
      "source": [
        "fit_model(model, X_train, EPOCHS, BATCH_SIZE, verbose=0, callbacks=[EARLY_STOPPING]);"
      ]
    },
    {
      "cell_type": "markdown",
      "metadata": {
        "id": "GERhJK69zAVW"
      },
      "source": [
        "### **Making predictions and calculating reconstruction error for each dataset**"
      ]
    },
    {
      "cell_type": "code",
      "execution_count": null,
      "metadata": {
        "id": "XkrSve7WzFHA"
      },
      "outputs": [],
      "source": [
        "# make predictions (reconstructions) for each dataset\n",
        "X_train_pred, X_val_pred, X_test_pred = make_predictions(model, X_train, X_val, X_test)\n",
        "\n",
        "# calculate reconstructions losses for each dataset\n",
        "train_loss, val_loss, test_loss = calculate_reconstrucion_losses(X_train, X_train_pred, \n",
        "                                                                 X_val, X_val_pred,\n",
        "                                                                 X_test, X_test_pred)\n",
        "\n",
        "# show train reconstrucion losses distribution\n",
        "plt.title('Train reconstrucion losses distribution')\n",
        "sns.histplot(train_loss, bins=50, kde=True, stat=\"density\", linewidth=0);"
      ]
    },
    {
      "cell_type": "markdown",
      "metadata": {
        "id": "_DACLUszza4V"
      },
      "source": [
        "###**Selecting threshold for maximum accuracy** "
      ]
    },
    {
      "cell_type": "code",
      "execution_count": null,
      "metadata": {
        "id": "lpC2R3h0zdNN"
      },
      "outputs": [],
      "source": [
        "# define percentile range for tesing threshold\n",
        "percentiles = range(90,100)\n",
        "\n",
        "threshold = select_threshold(train_loss, y_val, val_loss, percentiles)"
      ]
    },
    {
      "cell_type": "markdown",
      "metadata": {
        "id": "VNt4LVALzqF9"
      },
      "source": [
        "**Calculating prediction metrics and adding them to a placeholder**"
      ]
    },
    {
      "cell_type": "code",
      "execution_count": null,
      "metadata": {
        "id": "ff9Ne9azzsm9"
      },
      "outputs": [],
      "source": [
        "# predict test set classes based on test reconctrucion losses and selected threshold\n",
        "y_test_pred = [int(x < threshold) for x in test_loss]\n",
        "\n",
        "# calculate and print predicion metrics\n",
        "test_accuracy, test_precision, test_recall, test_f1_score = calculate_prediction_metrics(y_test, y_test_pred, verbose=1)\n",
        "\n",
        "# add prediction metrics to place holder\n",
        "results.add_components('Stacked ANN AutoEncoder', X_test_pred, y_test_pred, test_accuracy, test_precision, test_recall, test_f1_score)"
      ]
    },
    {
      "cell_type": "markdown",
      "metadata": {
        "id": "31_GCf1Mz-s9"
      },
      "source": [
        "### **visualization for correctly predicted class**"
      ]
    },
    {
      "cell_type": "code",
      "execution_count": null,
      "metadata": {
        "id": "o81jG26J0CaF"
      },
      "outputs": [],
      "source": [
        "# corrected classified normal and anomaly sequences   \n",
        "X_test_normal = X_test[(y_test==1)  & (np.array(y_test_pred)==1)]\n",
        "X_test_anomaly = X_test[(y_test==0) & (np.array(y_test_pred)==0)]\n",
        "\n",
        "# print sequences\n",
        "plot_recontructions(model,\n",
        "                    X_test_normal,\n",
        "                    X_test_anomaly,\n",
        "                    threshold,\n",
        "                    'True Positive',\n",
        "                    'True Negative',\n",
        "                    nrows=2,\n",
        "                    ncols=6,\n",
        "                    figsize=(22, 8) )"
      ]
    },
    {
      "cell_type": "markdown",
      "metadata": {
        "id": "ZHTVhu5V0NO-"
      },
      "source": [
        "Point : As you can see Stacked ANN AutoEncoder like ANN AutoEncoder tries to remember whole sequences, doesn't try to find any patern to detect anomalies."
      ]
    },
    {
      "cell_type": "markdown",
      "metadata": {
        "id": "dM5lNp550cGO"
      },
      "source": [
        "### **visualization for incorrectly predicted/classified normal and anomaly sequences**"
      ]
    },
    {
      "cell_type": "code",
      "execution_count": null,
      "metadata": {
        "id": "_NheDHNJ0e3O"
      },
      "outputs": [],
      "source": [
        "# incorrected classified normal and anomaly sequences   \n",
        "X_test_normal_classified_as_anomaly = X_test[(y_test==1)  & (np.array(y_test_pred)==0)]\n",
        "X_test_anomaly_classified_as_normal = X_test[(y_test==0) & (np.array(y_test_pred)==1)]\n",
        "\n",
        "# if the number of incorrectly classified samples in at least one case is less than 6\n",
        "ncols = np.min([len(X_test_normal_classified_as_anomaly), \n",
        "                len(X_test_anomaly_classified_as_normal), \n",
        "                6])\n",
        "\n",
        "# print sequences\n",
        "plot_recontructions(model,\n",
        "                    X_test_normal_classified_as_anomaly,\n",
        "                    X_test_anomaly_classified_as_normal,\n",
        "                    threshold,\n",
        "                    'False Positive',\n",
        "                    'False Negative',\n",
        "                    nrows=2,\n",
        "                    ncols=ncols,\n",
        "                    figsize=(22, 8) )"
      ]
    },
    {
      "cell_type": "markdown",
      "metadata": {
        "id": "lTnecFKg0pd2"
      },
      "source": [
        "Point : Three middle bottom samples look like a incorrect labeled."
      ]
    },
    {
      "cell_type": "markdown",
      "metadata": {
        "id": "Ey68W8jM02ZP"
      },
      "source": [
        "### **Saving the model for future**"
      ]
    },
    {
      "cell_type": "code",
      "execution_count": null,
      "metadata": {
        "id": "m_yt96_g04wG"
      },
      "outputs": [],
      "source": [
        "model.save('Stacked_ANN_AutoEncoder.h5')"
      ]
    },
    {
      "cell_type": "markdown",
      "metadata": {
        "id": "BS9N3skB1h3-"
      },
      "source": [
        "### **compiled results summary report**\n",
        "\n",
        "---\n",
        "\n"
      ]
    },
    {
      "cell_type": "code",
      "execution_count": null,
      "metadata": {
        "id": "rWuiv92g1uzs"
      },
      "outputs": [],
      "source": [
        "# get prediction metric result lists from placeholder\n",
        "precision_score, recall_score, f1_score, accuracy_score = results.get_metrics()\n",
        "\n",
        "# get model names list from placeholder\n",
        "models_name = results.get_names()\n",
        "\n",
        "# create dictionary of results \n",
        "results_dict = {'precision_score': precision_score, \n",
        "               'recall_score': recall_score, \n",
        "               'f1_score': f1_score,\n",
        "               'accuracy_score' : accuracy_score}\n",
        "\n",
        "results_df = pd.DataFrame(data=results_dict)\n",
        "results_df.insert(loc=0, column='Model', value=models_name)\n",
        "results_df"
      ]
    },
    {
      "cell_type": "code",
      "execution_count": null,
      "metadata": {
        "id": "vx39N4Eh2U0X"
      },
      "outputs": [],
      "source": [
        "# save metrics\n",
        "results_df.to_csv('final_results.csv')\n",
        "\n",
        "# save model names\n",
        "with open('models_name.pickle', 'wb') as f:\n",
        "    # pickle the 'models'using the highest protocol available.\n",
        "    pickle.dump(models_name, f, pickle.HIGHEST_PROTOCOL)\n",
        "\n",
        "# extract reconstructed test sequences and predictions from placeholder\n",
        "test_sequences, test_predictions = results.get_test_predictions()\n",
        "\n",
        "# save test sequences\n",
        "with open('test_sequences.pickle', 'wb') as f:\n",
        "    # pickle the 'models'using the highest protocol available.\n",
        "    pickle.dump(test_sequences, f, pickle.HIGHEST_PROTOCOL)\n",
        "\n",
        "# save test predictions\n",
        "with open('test_predictions.pickle', 'wb') as f:\n",
        "    # pickle the 'models'using the highest protocol available.\n",
        "    pickle.dump(test_predictions, f, pickle.HIGHEST_PROTOCOL)"
      ]
    }
  ],
  "metadata": {
    "accelerator": "GPU",
    "colab": {
      "collapsed_sections": [],
      "name": "Aman  ae.ipynb",
      "provenance": []
    },
    "gpuClass": "standard",
    "kernelspec": {
      "display_name": "Python 3",
      "name": "python3"
    },
    "language_info": {
      "name": "python"
    }
  },
  "nbformat": 4,
  "nbformat_minor": 0
}